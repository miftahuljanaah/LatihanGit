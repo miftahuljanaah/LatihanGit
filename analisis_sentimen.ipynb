{
  "cells": [
    {
      "cell_type": "code",
      "execution_count": 97,
      "metadata": {
        "id": "ZqP85EOfun7m"
      },
      "outputs": [],
      "source": [
        "import pandas as pd\n",
        "import seaborn as sns\n",
        "import re\n",
        "from bs4 import BeautifulSoup\n",
        "import nltk\n",
        "from nltk.corpus import stopwords\n",
        "from nltk.tokenize import word_tokenize\n",
        "from nltk.stem import WordNetLemmatizer"
      ]
    },
    {
      "cell_type": "code",
      "execution_count": 98,
      "metadata": {
        "colab": {
          "base_uri": "https://localhost:8080/",
          "height": 206
        },
        "id": "apGJzD9lvNYn",
        "outputId": "30d1805c-a23d-4853-c26a-724bfca8da20"
      },
      "outputs": [
        {
          "data": {
            "text/html": [
              "<div>\n",
              "<style scoped>\n",
              "    .dataframe tbody tr th:only-of-type {\n",
              "        vertical-align: middle;\n",
              "    }\n",
              "\n",
              "    .dataframe tbody tr th {\n",
              "        vertical-align: top;\n",
              "    }\n",
              "\n",
              "    .dataframe thead th {\n",
              "        text-align: right;\n",
              "    }\n",
              "</style>\n",
              "<table border=\"1\" class=\"dataframe\">\n",
              "  <thead>\n",
              "    <tr style=\"text-align: right;\">\n",
              "      <th></th>\n",
              "      <th>created_at</th>\n",
              "      <th>id_str</th>\n",
              "      <th>text</th>\n",
              "      <th>quote_count</th>\n",
              "      <th>reply_count</th>\n",
              "      <th>retweet_count</th>\n",
              "      <th>favorite_count</th>\n",
              "      <th>lang</th>\n",
              "      <th>user_id_str</th>\n",
              "      <th>conversation_id_str</th>\n",
              "      <th>username</th>\n",
              "      <th>tweet_url</th>\n",
              "    </tr>\n",
              "  </thead>\n",
              "  <tbody>\n",
              "    <tr>\n",
              "      <th>0</th>\n",
              "      <td>Tue Aug 29 23:59:24 +0000 2023</td>\n",
              "      <td>1,69667E+18</td>\n",
              "      <td>-ness niat baik ngasi job ke anak Unnes, malah...</td>\n",
              "      <td>0</td>\n",
              "      <td>2</td>\n",
              "      <td>0</td>\n",
              "      <td>2</td>\n",
              "      <td>in</td>\n",
              "      <td>1,18728E+18</td>\n",
              "      <td>1,69667E+18</td>\n",
              "      <td>unnesmenfess</td>\n",
              "      <td>https://twitter.com/unnesmenfess/status/169667...</td>\n",
              "    </tr>\n",
              "    <tr>\n",
              "      <th>1</th>\n",
              "      <td>Tue Aug 29 23:47:23 +0000 2023</td>\n",
              "      <td>1,69667E+18</td>\n",
              "      <td>@unnesmenfess https://t.co/PiKDLydxPP</td>\n",
              "      <td>0</td>\n",
              "      <td>0</td>\n",
              "      <td>0</td>\n",
              "      <td>0</td>\n",
              "      <td>qme</td>\n",
              "      <td>1,67212E+18</td>\n",
              "      <td>1,69667E+18</td>\n",
              "      <td>jekbersinergi</td>\n",
              "      <td>https://twitter.com/jekbersinergi/status/16966...</td>\n",
              "    </tr>\n",
              "    <tr>\n",
              "      <th>2</th>\n",
              "      <td>Tue Aug 29 23:44:16 +0000 2023</td>\n",
              "      <td>1,69667E+18</td>\n",
              "      <td>-ness need anjem jam 7.35 area unnes</td>\n",
              "      <td>0</td>\n",
              "      <td>7</td>\n",
              "      <td>0</td>\n",
              "      <td>0</td>\n",
              "      <td>en</td>\n",
              "      <td>1,18728E+18</td>\n",
              "      <td>1,69667E+18</td>\n",
              "      <td>unnesmenfess</td>\n",
              "      <td>https://twitter.com/unnesmenfess/status/169667...</td>\n",
              "    </tr>\n",
              "    <tr>\n",
              "      <th>3</th>\n",
              "      <td>Tue Aug 29 23:41:34 +0000 2023</td>\n",
              "      <td>1,69667E+18</td>\n",
              "      <td>-ness ada anjem cewe yang bisa nganter jam 7 p...</td>\n",
              "      <td>0</td>\n",
              "      <td>6</td>\n",
              "      <td>0</td>\n",
              "      <td>0</td>\n",
              "      <td>in</td>\n",
              "      <td>1,18728E+18</td>\n",
              "      <td>1,69667E+18</td>\n",
              "      <td>unnesmenfess</td>\n",
              "      <td>https://twitter.com/unnesmenfess/status/169666...</td>\n",
              "    </tr>\n",
              "    <tr>\n",
              "      <th>4</th>\n",
              "      <td>Tue Aug 29 23:32:53 +0000 2023</td>\n",
              "      <td>1,69667E+18</td>\n",
              "      <td>@FitrahDharul @alqodrifaqih @aniesbaswedan @BE...</td>\n",
              "      <td>0</td>\n",
              "      <td>1</td>\n",
              "      <td>0</td>\n",
              "      <td>1</td>\n",
              "      <td>in</td>\n",
              "      <td>1,45251E+18</td>\n",
              "      <td>1,69644E+18</td>\n",
              "      <td>EviDrajat</td>\n",
              "      <td>https://twitter.com/EviDrajat/status/169666726...</td>\n",
              "    </tr>\n",
              "  </tbody>\n",
              "</table>\n",
              "</div>"
            ],
            "text/plain": [
              "                       created_at       id_str  \\\n",
              "0  Tue Aug 29 23:59:24 +0000 2023  1,69667E+18   \n",
              "1  Tue Aug 29 23:47:23 +0000 2023  1,69667E+18   \n",
              "2  Tue Aug 29 23:44:16 +0000 2023  1,69667E+18   \n",
              "3  Tue Aug 29 23:41:34 +0000 2023  1,69667E+18   \n",
              "4  Tue Aug 29 23:32:53 +0000 2023  1,69667E+18   \n",
              "\n",
              "                                                text  quote_count  \\\n",
              "0  -ness niat baik ngasi job ke anak Unnes, malah...            0   \n",
              "1              @unnesmenfess https://t.co/PiKDLydxPP            0   \n",
              "2               -ness need anjem jam 7.35 area unnes            0   \n",
              "3  -ness ada anjem cewe yang bisa nganter jam 7 p...            0   \n",
              "4  @FitrahDharul @alqodrifaqih @aniesbaswedan @BE...            0   \n",
              "\n",
              "   reply_count  retweet_count  favorite_count lang  user_id_str  \\\n",
              "0            2              0               2   in  1,18728E+18   \n",
              "1            0              0               0  qme  1,67212E+18   \n",
              "2            7              0               0   en  1,18728E+18   \n",
              "3            6              0               0   in  1,18728E+18   \n",
              "4            1              0               1   in  1,45251E+18   \n",
              "\n",
              "  conversation_id_str       username  \\\n",
              "0         1,69667E+18   unnesmenfess   \n",
              "1         1,69667E+18  jekbersinergi   \n",
              "2         1,69667E+18   unnesmenfess   \n",
              "3         1,69667E+18   unnesmenfess   \n",
              "4         1,69644E+18      EviDrajat   \n",
              "\n",
              "                                           tweet_url  \n",
              "0  https://twitter.com/unnesmenfess/status/169667...  \n",
              "1  https://twitter.com/jekbersinergi/status/16966...  \n",
              "2  https://twitter.com/unnesmenfess/status/169667...  \n",
              "3  https://twitter.com/unnesmenfess/status/169666...  \n",
              "4  https://twitter.com/EviDrajat/status/169666726...  "
            ]
          },
          "execution_count": 98,
          "metadata": {},
          "output_type": "execute_result"
        }
      ],
      "source": [
        "#df = pd.read_csv('D:/KULIAH/PRIGEL/KODING/ANALISIS/DATASET/TWITTER/unnes27082023.csv', engine='python')\n",
        "df = pd.read_csv('D:/KULIAH/PRIGEL/KODING/ANALISIS/DATASET/TWITTER/unnes29082023.csv', delimiter=';')\n",
        "\n",
        "df.head()\n"
      ]
    },
    {
      "cell_type": "code",
      "execution_count": 99,
      "metadata": {},
      "outputs": [
        {
          "name": "stdout",
          "output_type": "stream",
          "text": [
            "Index(['created_at', 'id_str', 'text', 'quote_count', 'reply_count',\n",
            "       'retweet_count', 'favorite_count', 'lang', 'user_id_str',\n",
            "       'conversation_id_str', 'username', 'tweet_url'],\n",
            "      dtype='object')\n"
          ]
        }
      ],
      "source": [
        "print(df.columns)"
      ]
    },
    {
      "cell_type": "markdown",
      "metadata": {},
      "source": [
        "Data Preprocessing"
      ]
    },
    {
      "cell_type": "code",
      "execution_count": 100,
      "metadata": {
        "colab": {
          "base_uri": "https://localhost:8080/"
        },
        "id": "0Uk0ftrldCHf",
        "outputId": "08c3b584-5800-42bf-af6e-aeca311d4d44"
      },
      "outputs": [
        {
          "data": {
            "text/html": [
              "<div>\n",
              "<style scoped>\n",
              "    .dataframe tbody tr th:only-of-type {\n",
              "        vertical-align: middle;\n",
              "    }\n",
              "\n",
              "    .dataframe tbody tr th {\n",
              "        vertical-align: top;\n",
              "    }\n",
              "\n",
              "    .dataframe thead th {\n",
              "        text-align: right;\n",
              "    }\n",
              "</style>\n",
              "<table border=\"1\" class=\"dataframe\">\n",
              "  <thead>\n",
              "    <tr style=\"text-align: right;\">\n",
              "      <th></th>\n",
              "      <th>text</th>\n",
              "    </tr>\n",
              "  </thead>\n",
              "  <tbody>\n",
              "    <tr>\n",
              "      <th>0</th>\n",
              "      <td>-ness niat baik ngasi job ke anak Unnes, malah...</td>\n",
              "    </tr>\n",
              "    <tr>\n",
              "      <th>1</th>\n",
              "      <td>@unnesmenfess https://t.co/PiKDLydxPP</td>\n",
              "    </tr>\n",
              "    <tr>\n",
              "      <th>2</th>\n",
              "      <td>-ness need anjem jam 7.35 area unnes</td>\n",
              "    </tr>\n",
              "    <tr>\n",
              "      <th>3</th>\n",
              "      <td>-ness ada anjem cewe yang bisa nganter jam 7 p...</td>\n",
              "    </tr>\n",
              "    <tr>\n",
              "      <th>4</th>\n",
              "      <td>@FitrahDharul @alqodrifaqih @aniesbaswedan @BE...</td>\n",
              "    </tr>\n",
              "  </tbody>\n",
              "</table>\n",
              "</div>"
            ],
            "text/plain": [
              "                                                text\n",
              "0  -ness niat baik ngasi job ke anak Unnes, malah...\n",
              "1              @unnesmenfess https://t.co/PiKDLydxPP\n",
              "2               -ness need anjem jam 7.35 area unnes\n",
              "3  -ness ada anjem cewe yang bisa nganter jam 7 p...\n",
              "4  @FitrahDharul @alqodrifaqih @aniesbaswedan @BE..."
            ]
          },
          "execution_count": 100,
          "metadata": {},
          "output_type": "execute_result"
        }
      ],
      "source": [
        "# drop unnecessary columns\n",
        "\n",
        "df = df.drop(['created_at', 'id_str', 'quote_count', 'reply_count',\n",
        "       'retweet_count', 'favorite_count', 'lang', 'user_id_str',\n",
        "       'conversation_id_str', 'username', 'tweet_url'], axis=1)\n",
        "df.head()"
      ]
    },
    {
      "cell_type": "code",
      "execution_count": 101,
      "metadata": {},
      "outputs": [
        {
          "data": {
            "text/plain": [
              "text    0\n",
              "dtype: int64"
            ]
          },
          "execution_count": 101,
          "metadata": {},
          "output_type": "execute_result"
        }
      ],
      "source": [
        "df.isnull().sum()"
      ]
    },
    {
      "cell_type": "code",
      "execution_count": 102,
      "metadata": {},
      "outputs": [
        {
          "data": {
            "text/plain": [
              "(501, 1)"
            ]
          },
          "execution_count": 102,
          "metadata": {},
          "output_type": "execute_result"
        }
      ],
      "source": [
        "df.shape"
      ]
    },
    {
      "cell_type": "markdown",
      "metadata": {},
      "source": [
        "DATA CLEANING"
      ]
    },
    {
      "cell_type": "code",
      "execution_count": 103,
      "metadata": {
        "colab": {
          "base_uri": "https://localhost:8080/"
        },
        "id": "VGLqF_GSvY_f",
        "outputId": "321c0218-d471-49af-f56b-7afdc82f5731"
      },
      "outputs": [],
      "source": [
        "def clean_text(text):\n",
        "  \n",
        "    text = re.sub(r'http\\S+', '', text)  # URL\n",
        "    text = re.sub(r'@\\w+', '', text)  # Mentions\n",
        "    if re.search(r'<[^>]+>', text):\n",
        "        text = BeautifulSoup(text, 'html.parser').get_text()  # HTML tags\n",
        "    text = re.sub(r'\\[.*?\\]|\\{.*?\\}', '', text) # Brackets\n",
        "    text = re.sub(r'[^a-zA-Z\\s]', '', text)  # Special character & Punctuation\n",
        "    \n",
        "    text = text.lower() # Convert lowercase\n",
        "    \n",
        "    tokens = nltk.word_tokenize(text) # tokenize text\n",
        "    \n",
        "    \n",
        "    # Remove stopwords \n",
        "    # Normally using stopwords only deletes all the default stopwords.\n",
        "    # But here I need to remove some stopwords besides the default words. So I have to use custom stopwords.\n",
        "    \n",
        "    stop_words = set(stopwords.words('english'))\n",
        "    custom_stopwords = set(['https', 'http'])  # custom stopwords \n",
        "    filtered_tokens = [word for word in tokens if word not in stop_words and word not in custom_stopwords]\n",
        "    \n",
        "    # join \n",
        "    cleaned_text = ' '.join(filtered_tokens)\n",
        "    return cleaned_text\n",
        "\n",
        "# Apply the cleaning function\n",
        "df['cleaned_text'] = df['text'].apply(clean_text)"
      ]
    },
    {
      "cell_type": "code",
      "execution_count": 104,
      "metadata": {
        "colab": {
          "base_uri": "https://localhost:8080/"
        },
        "id": "aYo1YjqSv_Iq",
        "outputId": "fa7710a0-6f42-4703-a76f-6089f36629a0"
      },
      "outputs": [
        {
          "data": {
            "text/html": [
              "<div>\n",
              "<style scoped>\n",
              "    .dataframe tbody tr th:only-of-type {\n",
              "        vertical-align: middle;\n",
              "    }\n",
              "\n",
              "    .dataframe tbody tr th {\n",
              "        vertical-align: top;\n",
              "    }\n",
              "\n",
              "    .dataframe thead th {\n",
              "        text-align: right;\n",
              "    }\n",
              "</style>\n",
              "<table border=\"1\" class=\"dataframe\">\n",
              "  <thead>\n",
              "    <tr style=\"text-align: right;\">\n",
              "      <th></th>\n",
              "      <th>text</th>\n",
              "      <th>cleaned_text</th>\n",
              "    </tr>\n",
              "  </thead>\n",
              "  <tbody>\n",
              "    <tr>\n",
              "      <th>0</th>\n",
              "      <td>-ness niat baik ngasi job ke anak Unnes, malah...</td>\n",
              "      <td>ness niat baik ngasi job ke anak unnes malah k...</td>\n",
              "    </tr>\n",
              "    <tr>\n",
              "      <th>1</th>\n",
              "      <td>@unnesmenfess https://t.co/PiKDLydxPP</td>\n",
              "      <td></td>\n",
              "    </tr>\n",
              "    <tr>\n",
              "      <th>2</th>\n",
              "      <td>-ness need anjem jam 7.35 area unnes</td>\n",
              "      <td>ness need anjem jam area unnes</td>\n",
              "    </tr>\n",
              "    <tr>\n",
              "      <th>3</th>\n",
              "      <td>-ness ada anjem cewe yang bisa nganter jam 7 p...</td>\n",
              "      <td>ness ada anjem cewe yang bisa nganter jam pagi...</td>\n",
              "    </tr>\n",
              "    <tr>\n",
              "      <th>4</th>\n",
              "      <td>@FitrahDharul @alqodrifaqih @aniesbaswedan @BE...</td>\n",
              "      <td>sorrybegitu liat ternyata ahbelajar dulu aja y...</td>\n",
              "    </tr>\n",
              "  </tbody>\n",
              "</table>\n",
              "</div>"
            ],
            "text/plain": [
              "                                                text  \\\n",
              "0  -ness niat baik ngasi job ke anak Unnes, malah...   \n",
              "1              @unnesmenfess https://t.co/PiKDLydxPP   \n",
              "2               -ness need anjem jam 7.35 area unnes   \n",
              "3  -ness ada anjem cewe yang bisa nganter jam 7 p...   \n",
              "4  @FitrahDharul @alqodrifaqih @aniesbaswedan @BE...   \n",
              "\n",
              "                                        cleaned_text  \n",
              "0  ness niat baik ngasi job ke anak unnes malah k...  \n",
              "1                                                     \n",
              "2                     ness need anjem jam area unnes  \n",
              "3  ness ada anjem cewe yang bisa nganter jam pagi...  \n",
              "4  sorrybegitu liat ternyata ahbelajar dulu aja y...  "
            ]
          },
          "execution_count": 104,
          "metadata": {},
          "output_type": "execute_result"
        }
      ],
      "source": [
        "df.head()"
      ]
    },
    {
      "cell_type": "markdown",
      "metadata": {},
      "source": [
        "TOKENIZE THE DATA"
      ]
    },
    {
      "cell_type": "code",
      "execution_count": 105,
      "metadata": {
        "id": "rWPxBIEzwnMB"
      },
      "outputs": [],
      "source": [
        "df['tokenize_text'] = df['cleaned_text'].apply(word_tokenize)\n"
      ]
    },
    {
      "cell_type": "markdown",
      "metadata": {},
      "source": [
        "REMOVE INFREQUNT WORDS"
      ]
    },
    {
      "cell_type": "code",
      "execution_count": 106,
      "metadata": {
        "id": "qjleISHtwwHD"
      },
      "outputs": [
        {
          "data": {
            "text/html": [
              "<div>\n",
              "<style scoped>\n",
              "    .dataframe tbody tr th:only-of-type {\n",
              "        vertical-align: middle;\n",
              "    }\n",
              "\n",
              "    .dataframe tbody tr th {\n",
              "        vertical-align: top;\n",
              "    }\n",
              "\n",
              "    .dataframe thead th {\n",
              "        text-align: right;\n",
              "    }\n",
              "</style>\n",
              "<table border=\"1\" class=\"dataframe\">\n",
              "  <thead>\n",
              "    <tr style=\"text-align: right;\">\n",
              "      <th></th>\n",
              "      <th>text</th>\n",
              "      <th>cleaned_text</th>\n",
              "      <th>tokenize_text</th>\n",
              "      <th>rmv_infrequent</th>\n",
              "    </tr>\n",
              "  </thead>\n",
              "  <tbody>\n",
              "    <tr>\n",
              "      <th>0</th>\n",
              "      <td>-ness niat baik ngasi job ke anak Unnes, malah...</td>\n",
              "      <td>ness niat baik ngasi job ke anak unnes malah k...</td>\n",
              "      <td>[ness, niat, baik, ngasi, job, ke, anak, unnes...</td>\n",
              "      <td>ness niat baik ngasi job anak unnes malah kete...</td>\n",
              "    </tr>\n",
              "    <tr>\n",
              "      <th>1</th>\n",
              "      <td>@unnesmenfess https://t.co/PiKDLydxPP</td>\n",
              "      <td></td>\n",
              "      <td>[]</td>\n",
              "      <td></td>\n",
              "    </tr>\n",
              "    <tr>\n",
              "      <th>2</th>\n",
              "      <td>-ness need anjem jam 7.35 area unnes</td>\n",
              "      <td>ness need anjem jam area unnes</td>\n",
              "      <td>[ness, need, anjem, jam, area, unnes]</td>\n",
              "      <td>ness need anjem jam area unnes</td>\n",
              "    </tr>\n",
              "    <tr>\n",
              "      <th>3</th>\n",
              "      <td>-ness ada anjem cewe yang bisa nganter jam 7 p...</td>\n",
              "      <td>ness ada anjem cewe yang bisa nganter jam pagi...</td>\n",
              "      <td>[ness, ada, anjem, cewe, yang, bisa, nganter, ...</td>\n",
              "      <td>ness ada anjem cewe yang bisa nganter jam pagi</td>\n",
              "    </tr>\n",
              "    <tr>\n",
              "      <th>4</th>\n",
              "      <td>@FitrahDharul @alqodrifaqih @aniesbaswedan @BE...</td>\n",
              "      <td>sorrybegitu liat ternyata ahbelajar dulu aja y...</td>\n",
              "      <td>[sorrybegitu, liat, ternyata, ahbelajar, dulu,...</td>\n",
              "      <td>sorrybegitu liat ternyata ahbelajar dulu aja j...</td>\n",
              "    </tr>\n",
              "  </tbody>\n",
              "</table>\n",
              "</div>"
            ],
            "text/plain": [
              "                                                text  \\\n",
              "0  -ness niat baik ngasi job ke anak Unnes, malah...   \n",
              "1              @unnesmenfess https://t.co/PiKDLydxPP   \n",
              "2               -ness need anjem jam 7.35 area unnes   \n",
              "3  -ness ada anjem cewe yang bisa nganter jam 7 p...   \n",
              "4  @FitrahDharul @alqodrifaqih @aniesbaswedan @BE...   \n",
              "\n",
              "                                        cleaned_text  \\\n",
              "0  ness niat baik ngasi job ke anak unnes malah k...   \n",
              "1                                                      \n",
              "2                     ness need anjem jam area unnes   \n",
              "3  ness ada anjem cewe yang bisa nganter jam pagi...   \n",
              "4  sorrybegitu liat ternyata ahbelajar dulu aja y...   \n",
              "\n",
              "                                       tokenize_text  \\\n",
              "0  [ness, niat, baik, ngasi, job, ke, anak, unnes...   \n",
              "1                                                 []   \n",
              "2              [ness, need, anjem, jam, area, unnes]   \n",
              "3  [ness, ada, anjem, cewe, yang, bisa, nganter, ...   \n",
              "4  [sorrybegitu, liat, ternyata, ahbelajar, dulu,...   \n",
              "\n",
              "                                      rmv_infrequent  \n",
              "0  ness niat baik ngasi job anak unnes malah kete...  \n",
              "1                                                     \n",
              "2                     ness need anjem jam area unnes  \n",
              "3     ness ada anjem cewe yang bisa nganter jam pagi  \n",
              "4  sorrybegitu liat ternyata ahbelajar dulu aja j...  "
            ]
          },
          "execution_count": 106,
          "metadata": {},
          "output_type": "execute_result"
        }
      ],
      "source": [
        "# we convert tokenize col to string and keep only those words which are bigger than double (2) length\n",
        "\n",
        "df['rmv_infrequent'] = df['tokenize_text'].apply(lambda x: ' '.join([item for item in x if len(item)>2]))\n",
        "df.head()\n"
      ]
    },
    {
      "cell_type": "code",
      "execution_count": 107,
      "metadata": {
        "id": "Zg2xoBYRw4iX"
      },
      "outputs": [],
      "source": [
        "# after remove rare or infrequent words, join all the words\n",
        "\n",
        "all_words = ' '.join([word for word in df['rmv_infrequent']])"
      ]
    },
    {
      "cell_type": "markdown",
      "metadata": {},
      "source": [
        "Frequency Distribution"
      ]
    },
    {
      "cell_type": "code",
      "execution_count": 108,
      "metadata": {
        "colab": {
          "base_uri": "https://localhost:8080/"
        },
        "id": "BSe8TAX-w9UI",
        "outputId": "7c91b82f-1d93-481c-f32b-076d751366a2"
      },
      "outputs": [
        {
          "data": {
            "text/plain": [
              "FreqDist({'ness': 216, 'name': 134, 'ada': 115, 'unnes': 103, 'yang': 74, 'bisa': 73, 'aku': 57, 'mau': 56, 'buat': 43, 'dan': 37, ...})"
            ]
          },
          "execution_count": 108,
          "metadata": {},
          "output_type": "execute_result"
        }
      ],
      "source": [
        "from nltk.probability import FreqDist\n",
        "\n",
        "\n",
        "tokenize = nltk.tokenize.word_tokenize(all_words)\n",
        "frequency_distribution = FreqDist(tokenize)\n",
        "\n",
        "frequency_distribution\n"
      ]
    },
    {
      "cell_type": "code",
      "execution_count": 109,
      "metadata": {
        "colab": {
          "base_uri": "https://localhost:8080/",
          "height": 866
        },
        "id": "hxHAuR15xJP0",
        "outputId": "035a08d5-fd97-4412-ac96-7eddf2ffedbb"
      },
      "outputs": [
        {
          "data": {
            "text/plain": [
              "[('ness', 216),\n",
              " ('name', 134),\n",
              " ('ada', 115),\n",
              " ('unnes', 103),\n",
              " ('yang', 74),\n",
              " ('bisa', 73),\n",
              " ('aku', 57),\n",
              " ('mau', 56),\n",
              " ('buat', 43),\n",
              " ('dan', 37)]"
            ]
          },
          "execution_count": 109,
          "metadata": {},
          "output_type": "execute_result"
        }
      ],
      "source": [
        "# Most common words \n",
        "frequency_distribution.most_common(10)\n"
      ]
    },
    {
      "cell_type": "code",
      "execution_count": 110,
      "metadata": {
        "colab": {
          "base_uri": "https://localhost:8080/"
        },
        "id": "HfjQZKYtx-Kw",
        "outputId": "3022acc1-7c83-4c47-a2ac-6e4f2b152a0d"
      },
      "outputs": [],
      "source": [
        "from collections import Counter\n",
        "\n",
        "# Menghitung frekuensi kata-kata dalam kolom 'tokenize_text'\n",
        "frequency = Counter(word for words in df['tokenize_text'] for word in words)\n"
      ]
    },
    {
      "cell_type": "code",
      "execution_count": 111,
      "metadata": {},
      "outputs": [
        {
          "data": {
            "text/html": [
              "<div>\n",
              "<style scoped>\n",
              "    .dataframe tbody tr th:only-of-type {\n",
              "        vertical-align: middle;\n",
              "    }\n",
              "\n",
              "    .dataframe tbody tr th {\n",
              "        vertical-align: top;\n",
              "    }\n",
              "\n",
              "    .dataframe thead th {\n",
              "        text-align: right;\n",
              "    }\n",
              "</style>\n",
              "<table border=\"1\" class=\"dataframe\">\n",
              "  <thead>\n",
              "    <tr style=\"text-align: right;\">\n",
              "      <th></th>\n",
              "      <th>text</th>\n",
              "      <th>cleaned_text</th>\n",
              "      <th>tokenize_text</th>\n",
              "      <th>rmv_infrequent</th>\n",
              "    </tr>\n",
              "  </thead>\n",
              "  <tbody>\n",
              "    <tr>\n",
              "      <th>0</th>\n",
              "      <td>-ness niat baik ngasi job ke anak Unnes, malah...</td>\n",
              "      <td>ness niat baik ngasi job ke anak unnes malah k...</td>\n",
              "      <td>[ness, niat, baik, ngasi, job, ke, anak, unnes...</td>\n",
              "      <td>ness niat baik ngasi job anak unnes malah kete...</td>\n",
              "    </tr>\n",
              "    <tr>\n",
              "      <th>1</th>\n",
              "      <td>@unnesmenfess https://t.co/PiKDLydxPP</td>\n",
              "      <td></td>\n",
              "      <td>[]</td>\n",
              "      <td></td>\n",
              "    </tr>\n",
              "    <tr>\n",
              "      <th>2</th>\n",
              "      <td>-ness need anjem jam 7.35 area unnes</td>\n",
              "      <td>ness need anjem jam area unnes</td>\n",
              "      <td>[ness, need, anjem, jam, area, unnes]</td>\n",
              "      <td>ness need anjem jam area unnes</td>\n",
              "    </tr>\n",
              "    <tr>\n",
              "      <th>3</th>\n",
              "      <td>-ness ada anjem cewe yang bisa nganter jam 7 p...</td>\n",
              "      <td>ness ada anjem cewe yang bisa nganter jam pagi...</td>\n",
              "      <td>[ness, ada, anjem, cewe, yang, bisa, nganter, ...</td>\n",
              "      <td>ness ada anjem cewe yang bisa nganter jam pagi</td>\n",
              "    </tr>\n",
              "    <tr>\n",
              "      <th>4</th>\n",
              "      <td>@FitrahDharul @alqodrifaqih @aniesbaswedan @BE...</td>\n",
              "      <td>sorrybegitu liat ternyata ahbelajar dulu aja y...</td>\n",
              "      <td>[sorrybegitu, liat, ternyata, ahbelajar, dulu,...</td>\n",
              "      <td>sorrybegitu liat ternyata ahbelajar dulu aja j...</td>\n",
              "    </tr>\n",
              "  </tbody>\n",
              "</table>\n",
              "</div>"
            ],
            "text/plain": [
              "                                                text  \\\n",
              "0  -ness niat baik ngasi job ke anak Unnes, malah...   \n",
              "1              @unnesmenfess https://t.co/PiKDLydxPP   \n",
              "2               -ness need anjem jam 7.35 area unnes   \n",
              "3  -ness ada anjem cewe yang bisa nganter jam 7 p...   \n",
              "4  @FitrahDharul @alqodrifaqih @aniesbaswedan @BE...   \n",
              "\n",
              "                                        cleaned_text  \\\n",
              "0  ness niat baik ngasi job ke anak unnes malah k...   \n",
              "1                                                      \n",
              "2                     ness need anjem jam area unnes   \n",
              "3  ness ada anjem cewe yang bisa nganter jam pagi...   \n",
              "4  sorrybegitu liat ternyata ahbelajar dulu aja y...   \n",
              "\n",
              "                                       tokenize_text  \\\n",
              "0  [ness, niat, baik, ngasi, job, ke, anak, unnes...   \n",
              "1                                                 []   \n",
              "2              [ness, need, anjem, jam, area, unnes]   \n",
              "3  [ness, ada, anjem, cewe, yang, bisa, nganter, ...   \n",
              "4  [sorrybegitu, liat, ternyata, ahbelajar, dulu,...   \n",
              "\n",
              "                                      rmv_infrequent  \n",
              "0  ness niat baik ngasi job anak unnes malah kete...  \n",
              "1                                                     \n",
              "2                     ness need anjem jam area unnes  \n",
              "3     ness ada anjem cewe yang bisa nganter jam pagi  \n",
              "4  sorrybegitu liat ternyata ahbelajar dulu aja j...  "
            ]
          },
          "execution_count": 111,
          "metadata": {},
          "output_type": "execute_result"
        }
      ],
      "source": [
        "df.head()"
      ]
    },
    {
      "cell_type": "markdown",
      "metadata": {
        "id": "VJ3CAd62ze5d"
      },
      "source": [
        "NORMALIZE TEXT"
      ]
    },
    {
      "cell_type": "code",
      "execution_count": 112,
      "metadata": {
        "colab": {
          "base_uri": "https://localhost:8080/",
          "height": 480
        },
        "id": "e4pnO8g7y8Rf",
        "outputId": "9dbeffc0-6450-4ad4-ba8f-720aed028660"
      },
      "outputs": [
        {
          "ename": "KeyError",
          "evalue": "'drop_words'",
          "output_type": "error",
          "traceback": [
            "\u001b[1;31m---------------------------------------------------------------------------\u001b[0m",
            "\u001b[1;31mKeyError\u001b[0m                                  Traceback (most recent call last)",
            "File \u001b[1;32m~\\AppData\\Roaming\\Python\\Python310\\site-packages\\pandas\\core\\indexes\\base.py:3803\u001b[0m, in \u001b[0;36mIndex.get_loc\u001b[1;34m(self, key, method, tolerance)\u001b[0m\n\u001b[0;32m   3802\u001b[0m \u001b[39mtry\u001b[39;00m:\n\u001b[1;32m-> 3803\u001b[0m     \u001b[39mreturn\u001b[39;00m \u001b[39mself\u001b[39;49m\u001b[39m.\u001b[39;49m_engine\u001b[39m.\u001b[39;49mget_loc(casted_key)\n\u001b[0;32m   3804\u001b[0m \u001b[39mexcept\u001b[39;00m \u001b[39mKeyError\u001b[39;00m \u001b[39mas\u001b[39;00m err:\n",
            "File \u001b[1;32m~\\AppData\\Roaming\\Python\\Python310\\site-packages\\pandas\\_libs\\index.pyx:138\u001b[0m, in \u001b[0;36mpandas._libs.index.IndexEngine.get_loc\u001b[1;34m()\u001b[0m\n",
            "File \u001b[1;32m~\\AppData\\Roaming\\Python\\Python310\\site-packages\\pandas\\_libs\\index.pyx:165\u001b[0m, in \u001b[0;36mpandas._libs.index.IndexEngine.get_loc\u001b[1;34m()\u001b[0m\n",
            "File \u001b[1;32mpandas\\_libs\\hashtable_class_helper.pxi:5745\u001b[0m, in \u001b[0;36mpandas._libs.hashtable.PyObjectHashTable.get_item\u001b[1;34m()\u001b[0m\n",
            "File \u001b[1;32mpandas\\_libs\\hashtable_class_helper.pxi:5753\u001b[0m, in \u001b[0;36mpandas._libs.hashtable.PyObjectHashTable.get_item\u001b[1;34m()\u001b[0m\n",
            "\u001b[1;31mKeyError\u001b[0m: 'drop_words'",
            "\nThe above exception was the direct cause of the following exception:\n",
            "\u001b[1;31mKeyError\u001b[0m                                  Traceback (most recent call last)",
            "\u001b[1;32md:\\KULIAH\\PRIGEL\\KODING\\ANALISIS\\analisis_sentimen.ipynb Cell 22\u001b[0m in \u001b[0;36m3\n\u001b[0;32m      <a href='vscode-notebook-cell:/d%3A/KULIAH/PRIGEL/KODING/ANALISIS/analisis_sentimen.ipynb#X30sZmlsZQ%3D%3D?line=0'>1</a>\u001b[0m lemma \u001b[39m=\u001b[39m WordNetLemmatizer()\n\u001b[1;32m----> <a href='vscode-notebook-cell:/d%3A/KULIAH/PRIGEL/KODING/ANALISIS/analisis_sentimen.ipynb#X30sZmlsZQ%3D%3D?line=2'>3</a>\u001b[0m df[\u001b[39m'\u001b[39m\u001b[39mlemmatize_words\u001b[39m\u001b[39m'\u001b[39m] \u001b[39m=\u001b[39m df[\u001b[39m'\u001b[39;49m\u001b[39mdrop_words\u001b[39;49m\u001b[39m'\u001b[39;49m]\u001b[39m.\u001b[39mapply(lemma\u001b[39m.\u001b[39mlemmatize)\n\u001b[0;32m      <a href='vscode-notebook-cell:/d%3A/KULIAH/PRIGEL/KODING/ANALISIS/analisis_sentimen.ipynb#X30sZmlsZQ%3D%3D?line=3'>4</a>\u001b[0m df\u001b[39m.\u001b[39mhead(\u001b[39m3\u001b[39m)\n",
            "File \u001b[1;32m~\\AppData\\Roaming\\Python\\Python310\\site-packages\\pandas\\core\\frame.py:3805\u001b[0m, in \u001b[0;36mDataFrame.__getitem__\u001b[1;34m(self, key)\u001b[0m\n\u001b[0;32m   3803\u001b[0m \u001b[39mif\u001b[39;00m \u001b[39mself\u001b[39m\u001b[39m.\u001b[39mcolumns\u001b[39m.\u001b[39mnlevels \u001b[39m>\u001b[39m \u001b[39m1\u001b[39m:\n\u001b[0;32m   3804\u001b[0m     \u001b[39mreturn\u001b[39;00m \u001b[39mself\u001b[39m\u001b[39m.\u001b[39m_getitem_multilevel(key)\n\u001b[1;32m-> 3805\u001b[0m indexer \u001b[39m=\u001b[39m \u001b[39mself\u001b[39;49m\u001b[39m.\u001b[39;49mcolumns\u001b[39m.\u001b[39;49mget_loc(key)\n\u001b[0;32m   3806\u001b[0m \u001b[39mif\u001b[39;00m is_integer(indexer):\n\u001b[0;32m   3807\u001b[0m     indexer \u001b[39m=\u001b[39m [indexer]\n",
            "File \u001b[1;32m~\\AppData\\Roaming\\Python\\Python310\\site-packages\\pandas\\core\\indexes\\base.py:3805\u001b[0m, in \u001b[0;36mIndex.get_loc\u001b[1;34m(self, key, method, tolerance)\u001b[0m\n\u001b[0;32m   3803\u001b[0m     \u001b[39mreturn\u001b[39;00m \u001b[39mself\u001b[39m\u001b[39m.\u001b[39m_engine\u001b[39m.\u001b[39mget_loc(casted_key)\n\u001b[0;32m   3804\u001b[0m \u001b[39mexcept\u001b[39;00m \u001b[39mKeyError\u001b[39;00m \u001b[39mas\u001b[39;00m err:\n\u001b[1;32m-> 3805\u001b[0m     \u001b[39mraise\u001b[39;00m \u001b[39mKeyError\u001b[39;00m(key) \u001b[39mfrom\u001b[39;00m \u001b[39merr\u001b[39;00m\n\u001b[0;32m   3806\u001b[0m \u001b[39mexcept\u001b[39;00m \u001b[39mTypeError\u001b[39;00m:\n\u001b[0;32m   3807\u001b[0m     \u001b[39m# If we have a listlike key, _check_indexing_error will raise\u001b[39;00m\n\u001b[0;32m   3808\u001b[0m     \u001b[39m#  InvalidIndexError. Otherwise we fall through and re-raise\u001b[39;00m\n\u001b[0;32m   3809\u001b[0m     \u001b[39m#  the TypeError.\u001b[39;00m\n\u001b[0;32m   3810\u001b[0m     \u001b[39mself\u001b[39m\u001b[39m.\u001b[39m_check_indexing_error(key)\n",
            "\u001b[1;31mKeyError\u001b[0m: 'drop_words'"
          ]
        }
      ],
      "source": [
        "\n",
        "lemma = WordNetLemmatizer()\n",
        "\n",
        "df['lemmatize_words'] = df['drop_words'].apply(lemma.lemmatize)\n",
        "df.head(3)"
      ]
    },
    {
      "cell_type": "markdown",
      "metadata": {},
      "source": [
        "SENTIMENT ANALYSIS - VADER"
      ]
    },
    {
      "cell_type": "code",
      "execution_count": null,
      "metadata": {
        "id": "Rtpn5FdQmVPp"
      },
      "outputs": [
        {
          "ename": "KeyError",
          "evalue": "'lemmatize_words'",
          "output_type": "error",
          "traceback": [
            "\u001b[1;31m---------------------------------------------------------------------------\u001b[0m",
            "\u001b[1;31mKeyError\u001b[0m                                  Traceback (most recent call last)",
            "File \u001b[1;32m~\\AppData\\Roaming\\Python\\Python310\\site-packages\\pandas\\core\\indexes\\base.py:3803\u001b[0m, in \u001b[0;36mIndex.get_loc\u001b[1;34m(self, key, method, tolerance)\u001b[0m\n\u001b[0;32m   3802\u001b[0m \u001b[39mtry\u001b[39;00m:\n\u001b[1;32m-> 3803\u001b[0m     \u001b[39mreturn\u001b[39;00m \u001b[39mself\u001b[39;49m\u001b[39m.\u001b[39;49m_engine\u001b[39m.\u001b[39;49mget_loc(casted_key)\n\u001b[0;32m   3804\u001b[0m \u001b[39mexcept\u001b[39;00m \u001b[39mKeyError\u001b[39;00m \u001b[39mas\u001b[39;00m err:\n",
            "File \u001b[1;32m~\\AppData\\Roaming\\Python\\Python310\\site-packages\\pandas\\_libs\\index.pyx:138\u001b[0m, in \u001b[0;36mpandas._libs.index.IndexEngine.get_loc\u001b[1;34m()\u001b[0m\n",
            "File \u001b[1;32m~\\AppData\\Roaming\\Python\\Python310\\site-packages\\pandas\\_libs\\index.pyx:165\u001b[0m, in \u001b[0;36mpandas._libs.index.IndexEngine.get_loc\u001b[1;34m()\u001b[0m\n",
            "File \u001b[1;32mpandas\\_libs\\hashtable_class_helper.pxi:5745\u001b[0m, in \u001b[0;36mpandas._libs.hashtable.PyObjectHashTable.get_item\u001b[1;34m()\u001b[0m\n",
            "File \u001b[1;32mpandas\\_libs\\hashtable_class_helper.pxi:5753\u001b[0m, in \u001b[0;36mpandas._libs.hashtable.PyObjectHashTable.get_item\u001b[1;34m()\u001b[0m\n",
            "\u001b[1;31mKeyError\u001b[0m: 'lemmatize_words'",
            "\nThe above exception was the direct cause of the following exception:\n",
            "\u001b[1;31mKeyError\u001b[0m                                  Traceback (most recent call last)",
            "\u001b[1;32md:\\KULIAH\\PRIGEL\\KODING\\ANALISIS\\analisis_sentimen.ipynb Cell 24\u001b[0m in \u001b[0;36m5\n\u001b[0;32m      <a href='vscode-notebook-cell:/d%3A/KULIAH/PRIGEL/KODING/ANALISIS/analisis_sentimen.ipynb#X32sZmlsZQ%3D%3D?line=0'>1</a>\u001b[0m \u001b[39mfrom\u001b[39;00m \u001b[39mnltk\u001b[39;00m\u001b[39m.\u001b[39;00m\u001b[39msentiment\u001b[39;00m \u001b[39mimport\u001b[39;00m SentimentIntensityAnalyzer\n\u001b[0;32m      <a href='vscode-notebook-cell:/d%3A/KULIAH/PRIGEL/KODING/ANALISIS/analisis_sentimen.ipynb#X32sZmlsZQ%3D%3D?line=2'>3</a>\u001b[0m sentiment_analyzer \u001b[39m=\u001b[39m SentimentIntensityAnalyzer()\n\u001b[1;32m----> <a href='vscode-notebook-cell:/d%3A/KULIAH/PRIGEL/KODING/ANALISIS/analisis_sentimen.ipynb#X32sZmlsZQ%3D%3D?line=4'>5</a>\u001b[0m df[\u001b[39m'\u001b[39m\u001b[39mpolarity\u001b[39m\u001b[39m'\u001b[39m] \u001b[39m=\u001b[39m df[\u001b[39m'\u001b[39;49m\u001b[39mlemmatize_words\u001b[39;49m\u001b[39m'\u001b[39;49m]\u001b[39m.\u001b[39mapply(\u001b[39mlambda\u001b[39;00m x: sentiment_analyzer\u001b[39m.\u001b[39mpolarity_scores(x))\n\u001b[0;32m      <a href='vscode-notebook-cell:/d%3A/KULIAH/PRIGEL/KODING/ANALISIS/analisis_sentimen.ipynb#X32sZmlsZQ%3D%3D?line=5'>6</a>\u001b[0m df\u001b[39m.\u001b[39mhead()\n",
            "File \u001b[1;32m~\\AppData\\Roaming\\Python\\Python310\\site-packages\\pandas\\core\\frame.py:3805\u001b[0m, in \u001b[0;36mDataFrame.__getitem__\u001b[1;34m(self, key)\u001b[0m\n\u001b[0;32m   3803\u001b[0m \u001b[39mif\u001b[39;00m \u001b[39mself\u001b[39m\u001b[39m.\u001b[39mcolumns\u001b[39m.\u001b[39mnlevels \u001b[39m>\u001b[39m \u001b[39m1\u001b[39m:\n\u001b[0;32m   3804\u001b[0m     \u001b[39mreturn\u001b[39;00m \u001b[39mself\u001b[39m\u001b[39m.\u001b[39m_getitem_multilevel(key)\n\u001b[1;32m-> 3805\u001b[0m indexer \u001b[39m=\u001b[39m \u001b[39mself\u001b[39;49m\u001b[39m.\u001b[39;49mcolumns\u001b[39m.\u001b[39;49mget_loc(key)\n\u001b[0;32m   3806\u001b[0m \u001b[39mif\u001b[39;00m is_integer(indexer):\n\u001b[0;32m   3807\u001b[0m     indexer \u001b[39m=\u001b[39m [indexer]\n",
            "File \u001b[1;32m~\\AppData\\Roaming\\Python\\Python310\\site-packages\\pandas\\core\\indexes\\base.py:3805\u001b[0m, in \u001b[0;36mIndex.get_loc\u001b[1;34m(self, key, method, tolerance)\u001b[0m\n\u001b[0;32m   3803\u001b[0m     \u001b[39mreturn\u001b[39;00m \u001b[39mself\u001b[39m\u001b[39m.\u001b[39m_engine\u001b[39m.\u001b[39mget_loc(casted_key)\n\u001b[0;32m   3804\u001b[0m \u001b[39mexcept\u001b[39;00m \u001b[39mKeyError\u001b[39;00m \u001b[39mas\u001b[39;00m err:\n\u001b[1;32m-> 3805\u001b[0m     \u001b[39mraise\u001b[39;00m \u001b[39mKeyError\u001b[39;00m(key) \u001b[39mfrom\u001b[39;00m \u001b[39merr\u001b[39;00m\n\u001b[0;32m   3806\u001b[0m \u001b[39mexcept\u001b[39;00m \u001b[39mTypeError\u001b[39;00m:\n\u001b[0;32m   3807\u001b[0m     \u001b[39m# If we have a listlike key, _check_indexing_error will raise\u001b[39;00m\n\u001b[0;32m   3808\u001b[0m     \u001b[39m#  InvalidIndexError. Otherwise we fall through and re-raise\u001b[39;00m\n\u001b[0;32m   3809\u001b[0m     \u001b[39m#  the TypeError.\u001b[39;00m\n\u001b[0;32m   3810\u001b[0m     \u001b[39mself\u001b[39m\u001b[39m.\u001b[39m_check_indexing_error(key)\n",
            "\u001b[1;31mKeyError\u001b[0m: 'lemmatize_words'"
          ]
        }
      ],
      "source": [
        "from nltk.sentiment import SentimentIntensityAnalyzer\n",
        "\n",
        "sentiment_analyzer = SentimentIntensityAnalyzer()\n",
        "\n",
        "df['polarity'] = df['lemmatize_words'].apply(lambda x: sentiment_analyzer.polarity_scores(x))\n",
        "df.head()\n",
        "\n"
      ]
    },
    {
      "cell_type": "code",
      "execution_count": null,
      "metadata": {
        "colab": {
          "base_uri": "https://localhost:8080/",
          "height": 285
        },
        "id": "tHnT2QN0zshl",
        "outputId": "b9762430-e4a5-48c6-911c-abd6d2876b38"
      },
      "outputs": [],
      "source": [
        "# Transform the data\n",
        "\n",
        "df = pd.concat([df, df['polarity'].apply(pd.Series)], axis=1)\n",
        "\n",
        "# Drop the original 'polarity' column\n",
        "df = df.drop('polarity', axis=1)"
      ]
    },
    {
      "cell_type": "markdown",
      "metadata": {
        "id": "tsldS42EerqX"
      },
      "source": [
        "## Applying unsupervised learning "
      ]
    },
    {
      "cell_type": "code",
      "execution_count": 113,
      "metadata": {
        "id": "USYRlWROrpdd"
      },
      "outputs": [
        {
          "ename": "KeyError",
          "evalue": "'compound'",
          "output_type": "error",
          "traceback": [
            "\u001b[1;31m---------------------------------------------------------------------------\u001b[0m",
            "\u001b[1;31mKeyError\u001b[0m                                  Traceback (most recent call last)",
            "File \u001b[1;32m~\\AppData\\Roaming\\Python\\Python310\\site-packages\\pandas\\core\\indexes\\base.py:3803\u001b[0m, in \u001b[0;36mIndex.get_loc\u001b[1;34m(self, key, method, tolerance)\u001b[0m\n\u001b[0;32m   3802\u001b[0m \u001b[39mtry\u001b[39;00m:\n\u001b[1;32m-> 3803\u001b[0m     \u001b[39mreturn\u001b[39;00m \u001b[39mself\u001b[39;49m\u001b[39m.\u001b[39;49m_engine\u001b[39m.\u001b[39;49mget_loc(casted_key)\n\u001b[0;32m   3804\u001b[0m \u001b[39mexcept\u001b[39;00m \u001b[39mKeyError\u001b[39;00m \u001b[39mas\u001b[39;00m err:\n",
            "File \u001b[1;32m~\\AppData\\Roaming\\Python\\Python310\\site-packages\\pandas\\_libs\\index.pyx:138\u001b[0m, in \u001b[0;36mpandas._libs.index.IndexEngine.get_loc\u001b[1;34m()\u001b[0m\n",
            "File \u001b[1;32m~\\AppData\\Roaming\\Python\\Python310\\site-packages\\pandas\\_libs\\index.pyx:165\u001b[0m, in \u001b[0;36mpandas._libs.index.IndexEngine.get_loc\u001b[1;34m()\u001b[0m\n",
            "File \u001b[1;32mpandas\\_libs\\hashtable_class_helper.pxi:5745\u001b[0m, in \u001b[0;36mpandas._libs.hashtable.PyObjectHashTable.get_item\u001b[1;34m()\u001b[0m\n",
            "File \u001b[1;32mpandas\\_libs\\hashtable_class_helper.pxi:5753\u001b[0m, in \u001b[0;36mpandas._libs.hashtable.PyObjectHashTable.get_item\u001b[1;34m()\u001b[0m\n",
            "\u001b[1;31mKeyError\u001b[0m: 'compound'",
            "\nThe above exception was the direct cause of the following exception:\n",
            "\u001b[1;31mKeyError\u001b[0m                                  Traceback (most recent call last)",
            "\u001b[1;32md:\\KULIAH\\PRIGEL\\KODING\\ANALISIS\\analisis_sentimen.ipynb Cell 27\u001b[0m in \u001b[0;36m3\n\u001b[0;32m      <a href='vscode-notebook-cell:/d%3A/KULIAH/PRIGEL/KODING/ANALISIS/analisis_sentimen.ipynb#X35sZmlsZQ%3D%3D?line=0'>1</a>\u001b[0m \u001b[39m# Now make a new column based on compound and find out Positive, Negative or Neutral\u001b[39;00m\n\u001b[1;32m----> <a href='vscode-notebook-cell:/d%3A/KULIAH/PRIGEL/KODING/ANALISIS/analisis_sentimen.ipynb#X35sZmlsZQ%3D%3D?line=2'>3</a>\u001b[0m df[\u001b[39m'\u001b[39m\u001b[39msentiment\u001b[39m\u001b[39m'\u001b[39m] \u001b[39m=\u001b[39m df[\u001b[39m'\u001b[39;49m\u001b[39mcompound\u001b[39;49m\u001b[39m'\u001b[39;49m]\u001b[39m.\u001b[39mapply(\u001b[39mlambda\u001b[39;00m x: \u001b[39m'\u001b[39m\u001b[39mPositive\u001b[39m\u001b[39m'\u001b[39m \u001b[39mif\u001b[39;00m x\u001b[39m>\u001b[39m\u001b[39m0\u001b[39m \u001b[39melse\u001b[39;00m \u001b[39m'\u001b[39m\u001b[39mNegative\u001b[39m\u001b[39m'\u001b[39m \u001b[39mif\u001b[39;00m x\u001b[39m<\u001b[39m\u001b[39m0\u001b[39m \u001b[39melse\u001b[39;00m \u001b[39m'\u001b[39m\u001b[39mNeutral\u001b[39m\u001b[39m'\u001b[39m)\n\u001b[0;32m      <a href='vscode-notebook-cell:/d%3A/KULIAH/PRIGEL/KODING/ANALISIS/analisis_sentimen.ipynb#X35sZmlsZQ%3D%3D?line=3'>4</a>\u001b[0m df\u001b[39m.\u001b[39mhead()\n",
            "File \u001b[1;32m~\\AppData\\Roaming\\Python\\Python310\\site-packages\\pandas\\core\\frame.py:3805\u001b[0m, in \u001b[0;36mDataFrame.__getitem__\u001b[1;34m(self, key)\u001b[0m\n\u001b[0;32m   3803\u001b[0m \u001b[39mif\u001b[39;00m \u001b[39mself\u001b[39m\u001b[39m.\u001b[39mcolumns\u001b[39m.\u001b[39mnlevels \u001b[39m>\u001b[39m \u001b[39m1\u001b[39m:\n\u001b[0;32m   3804\u001b[0m     \u001b[39mreturn\u001b[39;00m \u001b[39mself\u001b[39m\u001b[39m.\u001b[39m_getitem_multilevel(key)\n\u001b[1;32m-> 3805\u001b[0m indexer \u001b[39m=\u001b[39m \u001b[39mself\u001b[39;49m\u001b[39m.\u001b[39;49mcolumns\u001b[39m.\u001b[39;49mget_loc(key)\n\u001b[0;32m   3806\u001b[0m \u001b[39mif\u001b[39;00m is_integer(indexer):\n\u001b[0;32m   3807\u001b[0m     indexer \u001b[39m=\u001b[39m [indexer]\n",
            "File \u001b[1;32m~\\AppData\\Roaming\\Python\\Python310\\site-packages\\pandas\\core\\indexes\\base.py:3805\u001b[0m, in \u001b[0;36mIndex.get_loc\u001b[1;34m(self, key, method, tolerance)\u001b[0m\n\u001b[0;32m   3803\u001b[0m     \u001b[39mreturn\u001b[39;00m \u001b[39mself\u001b[39m\u001b[39m.\u001b[39m_engine\u001b[39m.\u001b[39mget_loc(casted_key)\n\u001b[0;32m   3804\u001b[0m \u001b[39mexcept\u001b[39;00m \u001b[39mKeyError\u001b[39;00m \u001b[39mas\u001b[39;00m err:\n\u001b[1;32m-> 3805\u001b[0m     \u001b[39mraise\u001b[39;00m \u001b[39mKeyError\u001b[39;00m(key) \u001b[39mfrom\u001b[39;00m \u001b[39merr\u001b[39;00m\n\u001b[0;32m   3806\u001b[0m \u001b[39mexcept\u001b[39;00m \u001b[39mTypeError\u001b[39;00m:\n\u001b[0;32m   3807\u001b[0m     \u001b[39m# If we have a listlike key, _check_indexing_error will raise\u001b[39;00m\n\u001b[0;32m   3808\u001b[0m     \u001b[39m#  InvalidIndexError. Otherwise we fall through and re-raise\u001b[39;00m\n\u001b[0;32m   3809\u001b[0m     \u001b[39m#  the TypeError.\u001b[39;00m\n\u001b[0;32m   3810\u001b[0m     \u001b[39mself\u001b[39m\u001b[39m.\u001b[39m_check_indexing_error(key)\n",
            "\u001b[1;31mKeyError\u001b[0m: 'compound'"
          ]
        }
      ],
      "source": [
        "# Now make a new column based on compound and find out Positive, Negative or Neutral\n",
        "\n",
        "df['sentiment'] = df['compound'].apply(lambda x: 'Positive' if x>0 else 'Negative' if x<0 else 'Neutral')\n",
        "df.head()"
      ]
    },
    {
      "cell_type": "code",
      "execution_count": null,
      "metadata": {
        "colab": {
          "base_uri": "https://localhost:8080/"
        },
        "id": "Xg7D6P-ggWco",
        "outputId": "797a7f48-6d7a-4dbd-baad-d269e3c3e38f"
      },
      "outputs": [
        {
          "data": {
            "text/plain": [
              "Neutral     469\n",
              "Negative     17\n",
              "Positive     15\n",
              "Name: sentiment, dtype: int64"
            ]
          },
          "execution_count": 308,
          "metadata": {},
          "output_type": "execute_result"
        }
      ],
      "source": [
        "# Checking and counts sentiments\n",
        "\n",
        "df['sentiment'].value_counts()"
      ]
    },
    {
      "cell_type": "code",
      "execution_count": null,
      "metadata": {
        "id": "1GdwSRKAshKZ"
      },
      "outputs": [
        {
          "data": {
            "image/png": "[encoded data removed]",
            "text/plain": [
              "<Figure size 640x480 with 1 Axes>"
            ]
          },
          "metadata": {},
          "output_type": "display_data"
        }
      ],
      "source": [
        "\n",
        "\n",
        "bar_color = sns.color_palette(\"colorblind\", len(df['sentiment'].unique()))\n",
        "\n",
        "\n",
        "#bar_color = sns.color_palette(\"colorblind\", len(common_word))\n",
        "\n",
        "ax = sns.countplot(y='sentiment', data=df, palette=bar_color)\n",
        "ax.xaxis.grid(False)"
      ]
    },
    {
      "cell_type": "code",
      "execution_count": null,
      "metadata": {
        "colab": {
          "base_uri": "https://localhost:8080/"
        },
        "id": "3B206_12rlDj",
        "outputId": "7d86b02e-dbe2-4aff-9b4f-b4df777a0ec9"
      },
      "outputs": [
        {
          "data": {
            "image/png": "[encoded data removed]",
            "text/plain": [
              "<Figure size 640x480 with 1 Axes>"
            ]
          },
          "metadata": {},
          "output_type": "display_data"
        }
      ],
      "source": [
        "# using boxplot\n",
        "\n",
        "bar_color = sns.color_palette(\"Dark2\", len(df['sentiment'].unique()))\n",
        "\n",
        "\n",
        "ax = sns.boxplot(y='compound', x='sentiment', data=df, palette=bar_color)\n",
        "ax.yaxis.grid(False)"
      ]
    },
    {
      "cell_type": "code",
      "execution_count": null,
      "metadata": {
        "colab": {
          "base_uri": "https://localhost:8080/",
          "height": 480
        },
        "id": "NCCSsoOAi--g",
        "outputId": "f16b2a9d-0f74-4121-8dc2-8e2ccd3604c3"
      },
      "outputs": [
        {
          "data": {
            "image/png": "[encoded data removed]",
            "text/plain": [
              "<Figure size 1000x400 with 1 Axes>"
            ]
          },
          "metadata": {},
          "output_type": "display_data"
        }
      ],
      "source": [
        "\n",
        "df['lemmatize_text'] = df['lemmatize_words'].apply(lambda x: ' '.join(x))\n",
        "\n",
        "# Menghitung frekuensi kata-kata dalam kolom 'lemmatize_text'\n",
        "frequency = Counter(word for words in df['lemmatize_text'] for word in words)\n",
        "\n",
        "\n",
        "top_words = frequency.most_common(10)\n",
        "\n",
        "# g\n",
        "words = []\n",
        "counts = []\n",
        "for word, count in top_words:\n",
        "    words.append(word)\n",
        "    counts.append(count)\n",
        "\n",
        "bar_color = sns.color_palette(\"viridis\", len(df['sentiment'].unique()))\n",
        "    \n",
        "plt.figure(figsize=(10, 4))\n",
        "ax = sns.barplot(x=counts, y=words, palette = bar_color)\n",
        "plt.ylabel('Words')\n",
        "plt.title('Top 10 Most Common Words')\n",
        "ax.xaxis.grid(False) \n",
        "\n",
        "plt.show()\n"
      ]
    },
    {
      "cell_type": "code",
      "execution_count": null,
      "metadata": {
        "colab": {
          "base_uri": "https://localhost:8080/",
          "height": 919
        },
        "id": "J1J_L5wOrmPw",
        "outputId": "2f24743e-d63a-47b4-aca3-68a582cf9afc"
      },
      "outputs": [
        {
          "ename": "NameError",
          "evalue": "name 'WordCloud' is not defined",
          "output_type": "error",
          "traceback": [
            "\u001b[1;31m---------------------------------------------------------------------------\u001b[0m",
            "\u001b[1;31mNameError\u001b[0m                                 Traceback (most recent call last)",
            "\u001b[1;32md:\\KULIAH\\PRIGEL\\KODING\\ANALISIS\\Final_Project_SMM.ipynb Cell 27\u001b[0m in \u001b[0;36m4\n\u001b[0;32m      <a href='vscode-notebook-cell:/d%3A/KULIAH/PRIGEL/KODING/ANALISIS/Final_Project_SMM.ipynb#X35sZmlsZQ%3D%3D?line=0'>1</a>\u001b[0m \u001b[39mimport\u001b[39;00m \u001b[39mwordcloud\u001b[39;00m\n\u001b[0;32m      <a href='vscode-notebook-cell:/d%3A/KULIAH/PRIGEL/KODING/ANALISIS/Final_Project_SMM.ipynb#X35sZmlsZQ%3D%3D?line=1'>2</a>\u001b[0m \u001b[39mimport\u001b[39;00m \u001b[39mmatplotlib\u001b[39;00m\u001b[39m.\u001b[39;00m\u001b[39mpyplot\u001b[39;00m \u001b[39mas\u001b[39;00m \u001b[39mplt\u001b[39;00m\n\u001b[1;32m----> <a href='vscode-notebook-cell:/d%3A/KULIAH/PRIGEL/KODING/ANALISIS/Final_Project_SMM.ipynb#X35sZmlsZQ%3D%3D?line=3'>4</a>\u001b[0m wordcloud \u001b[39m=\u001b[39m WordCloud(width\u001b[39m=\u001b[39m\u001b[39m800\u001b[39m, height\u001b[39m=\u001b[39m\u001b[39m450\u001b[39m, background_color\u001b[39m=\u001b[39m\u001b[39m'\u001b[39m\u001b[39mblack\u001b[39m\u001b[39m'\u001b[39m, max_words\u001b[39m=\u001b[39m\u001b[39m150\u001b[39m)\u001b[39m.\u001b[39mgenerate(all_words)\n\u001b[0;32m      <a href='vscode-notebook-cell:/d%3A/KULIAH/PRIGEL/KODING/ANALISIS/Final_Project_SMM.ipynb#X35sZmlsZQ%3D%3D?line=4'>5</a>\u001b[0m plt\u001b[39m.\u001b[39mfigure(figsize\u001b[39m=\u001b[39m(\u001b[39m8\u001b[39m, \u001b[39m8\u001b[39m), facecolor\u001b[39m=\u001b[39m\u001b[39mNone\u001b[39;00m)\n\u001b[0;32m      <a href='vscode-notebook-cell:/d%3A/KULIAH/PRIGEL/KODING/ANALISIS/Final_Project_SMM.ipynb#X35sZmlsZQ%3D%3D?line=5'>6</a>\u001b[0m plt\u001b[39m.\u001b[39mimshow(wordcloud)\n",
            "\u001b[1;31mNameError\u001b[0m: name 'WordCloud' is not defined"
          ]
        }
      ],
      "source": [
        "import wordcloud\n",
        "import matplotlib.pyplot as plt\n",
        "\n",
        "wordcloud = WordCloud(width=800, height=450, background_color='black', max_words=150).generate(all_words)\n",
        "plt.figure(figsize=(8, 8), facecolor=None)\n",
        "plt.imshow(wordcloud)\n",
        "plt.axis(\"off\")\n",
        "plt.tight_layout(pad=0)\n",
        "plt.show()\n"
      ]
    },
    {
      "cell_type": "markdown",
      "metadata": {
        "id": "ab52666f"
      },
      "source": [
        "# Applying VADER (Valence Aware Dictionary and Sentiment Reasoner)"
      ]
    },
    {
      "cell_type": "markdown",
      "metadata": {
        "id": "9082b58e"
      },
      "source": [
        "VADER is a lexcion and rule-based sentiment analysis tool that is designed to analyze social media data. It uses a sentiment lexicon that includes both postive and negative sentiment words, as well as words that are often used to express sentiment in social media texts such as lol, omg. It assigns each word in a given text a sentiment score based on its presence in the sentiment lexicon and its context within the text. It then calculates an overall sentiment score for the text based on the sentiment scores of the individual words."
      ]
    },
    {
      "cell_type": "code",
      "execution_count": null,
      "metadata": {
        "colab": {
          "base_uri": "https://localhost:8080/"
        },
        "id": "7rWRb9QuQlZv",
        "outputId": "1a7aeb56-8816-44ef-f6f9-f2dd57afdf8b"
      },
      "outputs": [
        {
          "name": "stderr",
          "output_type": "stream",
          "text": [
            "[nltk_data] Downloading package vader_lexicon to C:\\Users\\HP\n",
            "[nltk_data]     PAVILION\\AppData\\Roaming\\nltk_data...\n",
            "[nltk_data]   Package vader_lexicon is already up-to-date!\n"
          ]
        },
        {
          "data": {
            "text/plain": [
              "True"
            ]
          },
          "execution_count": 209,
          "metadata": {},
          "output_type": "execute_result"
        }
      ],
      "source": [
        "import nltk\n",
        "nltk.download('vader_lexicon')\n"
      ]
    },
    {
      "cell_type": "code",
      "execution_count": null,
      "metadata": {
        "colab": {
          "base_uri": "https://localhost:8080/"
        },
        "id": "9671bfc7",
        "outputId": "e5a6e082-3a41-4be8-c9f9-f154fe5427dc"
      },
      "outputs": [
        {
          "ename": "KeyError",
          "evalue": "'tweet_text'",
          "output_type": "error",
          "traceback": [
            "\u001b[1;31m---------------------------------------------------------------------------\u001b[0m",
            "\u001b[1;31mKeyError\u001b[0m                                  Traceback (most recent call last)",
            "File \u001b[1;32m~\\AppData\\Roaming\\Python\\Python310\\site-packages\\pandas\\core\\indexes\\base.py:3803\u001b[0m, in \u001b[0;36mIndex.get_loc\u001b[1;34m(self, key, method, tolerance)\u001b[0m\n\u001b[0;32m   3802\u001b[0m \u001b[39mtry\u001b[39;00m:\n\u001b[1;32m-> 3803\u001b[0m     \u001b[39mreturn\u001b[39;00m \u001b[39mself\u001b[39;49m\u001b[39m.\u001b[39;49m_engine\u001b[39m.\u001b[39;49mget_loc(casted_key)\n\u001b[0;32m   3804\u001b[0m \u001b[39mexcept\u001b[39;00m \u001b[39mKeyError\u001b[39;00m \u001b[39mas\u001b[39;00m err:\n",
            "File \u001b[1;32m~\\AppData\\Roaming\\Python\\Python310\\site-packages\\pandas\\_libs\\index.pyx:138\u001b[0m, in \u001b[0;36mpandas._libs.index.IndexEngine.get_loc\u001b[1;34m()\u001b[0m\n",
            "File \u001b[1;32m~\\AppData\\Roaming\\Python\\Python310\\site-packages\\pandas\\_libs\\index.pyx:165\u001b[0m, in \u001b[0;36mpandas._libs.index.IndexEngine.get_loc\u001b[1;34m()\u001b[0m\n",
            "File \u001b[1;32mpandas\\_libs\\hashtable_class_helper.pxi:5745\u001b[0m, in \u001b[0;36mpandas._libs.hashtable.PyObjectHashTable.get_item\u001b[1;34m()\u001b[0m\n",
            "File \u001b[1;32mpandas\\_libs\\hashtable_class_helper.pxi:5753\u001b[0m, in \u001b[0;36mpandas._libs.hashtable.PyObjectHashTable.get_item\u001b[1;34m()\u001b[0m\n",
            "\u001b[1;31mKeyError\u001b[0m: 'tweet_text'",
            "\nThe above exception was the direct cause of the following exception:\n",
            "\u001b[1;31mKeyError\u001b[0m                                  Traceback (most recent call last)",
            "\u001b[1;32md:\\KULIAH\\PRIGEL\\KODING\\ANALISIS\\Final_Project_SMM.ipynb Cell 31\u001b[0m in \u001b[0;36m8\n\u001b[0;32m      <a href='vscode-notebook-cell:/d%3A/KULIAH/PRIGEL/KODING/ANALISIS/Final_Project_SMM.ipynb#X42sZmlsZQ%3D%3D?line=5'>6</a>\u001b[0m \u001b[39m# Preprocess the data\u001b[39;00m\n\u001b[0;32m      <a href='vscode-notebook-cell:/d%3A/KULIAH/PRIGEL/KODING/ANALISIS/Final_Project_SMM.ipynb#X42sZmlsZQ%3D%3D?line=6'>7</a>\u001b[0m vectorizer \u001b[39m=\u001b[39m TfidfVectorizer(stop_words\u001b[39m=\u001b[39m\u001b[39m'\u001b[39m\u001b[39menglish\u001b[39m\u001b[39m'\u001b[39m)\n\u001b[1;32m----> <a href='vscode-notebook-cell:/d%3A/KULIAH/PRIGEL/KODING/ANALISIS/Final_Project_SMM.ipynb#X42sZmlsZQ%3D%3D?line=7'>8</a>\u001b[0m tfidf \u001b[39m=\u001b[39m vectorizer\u001b[39m.\u001b[39mfit_transform(df[\u001b[39m'\u001b[39;49m\u001b[39mtweet_text\u001b[39;49m\u001b[39m'\u001b[39;49m])\n\u001b[0;32m     <a href='vscode-notebook-cell:/d%3A/KULIAH/PRIGEL/KODING/ANALISIS/Final_Project_SMM.ipynb#X42sZmlsZQ%3D%3D?line=9'>10</a>\u001b[0m \u001b[39m# Apply k-means clustering to the TF-IDF matrix to obtain the clusters\u001b[39;00m\n\u001b[0;32m     <a href='vscode-notebook-cell:/d%3A/KULIAH/PRIGEL/KODING/ANALISIS/Final_Project_SMM.ipynb#X42sZmlsZQ%3D%3D?line=10'>11</a>\u001b[0m k \u001b[39m=\u001b[39m \u001b[39m3\u001b[39m  \u001b[39m# number of clusters\u001b[39;00m\n",
            "File \u001b[1;32m~\\AppData\\Roaming\\Python\\Python310\\site-packages\\pandas\\core\\frame.py:3805\u001b[0m, in \u001b[0;36mDataFrame.__getitem__\u001b[1;34m(self, key)\u001b[0m\n\u001b[0;32m   3803\u001b[0m \u001b[39mif\u001b[39;00m \u001b[39mself\u001b[39m\u001b[39m.\u001b[39mcolumns\u001b[39m.\u001b[39mnlevels \u001b[39m>\u001b[39m \u001b[39m1\u001b[39m:\n\u001b[0;32m   3804\u001b[0m     \u001b[39mreturn\u001b[39;00m \u001b[39mself\u001b[39m\u001b[39m.\u001b[39m_getitem_multilevel(key)\n\u001b[1;32m-> 3805\u001b[0m indexer \u001b[39m=\u001b[39m \u001b[39mself\u001b[39;49m\u001b[39m.\u001b[39;49mcolumns\u001b[39m.\u001b[39;49mget_loc(key)\n\u001b[0;32m   3806\u001b[0m \u001b[39mif\u001b[39;00m is_integer(indexer):\n\u001b[0;32m   3807\u001b[0m     indexer \u001b[39m=\u001b[39m [indexer]\n",
            "File \u001b[1;32m~\\AppData\\Roaming\\Python\\Python310\\site-packages\\pandas\\core\\indexes\\base.py:3805\u001b[0m, in \u001b[0;36mIndex.get_loc\u001b[1;34m(self, key, method, tolerance)\u001b[0m\n\u001b[0;32m   3803\u001b[0m     \u001b[39mreturn\u001b[39;00m \u001b[39mself\u001b[39m\u001b[39m.\u001b[39m_engine\u001b[39m.\u001b[39mget_loc(casted_key)\n\u001b[0;32m   3804\u001b[0m \u001b[39mexcept\u001b[39;00m \u001b[39mKeyError\u001b[39;00m \u001b[39mas\u001b[39;00m err:\n\u001b[1;32m-> 3805\u001b[0m     \u001b[39mraise\u001b[39;00m \u001b[39mKeyError\u001b[39;00m(key) \u001b[39mfrom\u001b[39;00m \u001b[39merr\u001b[39;00m\n\u001b[0;32m   3806\u001b[0m \u001b[39mexcept\u001b[39;00m \u001b[39mTypeError\u001b[39;00m:\n\u001b[0;32m   3807\u001b[0m     \u001b[39m# If we have a listlike key, _check_indexing_error will raise\u001b[39;00m\n\u001b[0;32m   3808\u001b[0m     \u001b[39m#  InvalidIndexError. Otherwise we fall through and re-raise\u001b[39;00m\n\u001b[0;32m   3809\u001b[0m     \u001b[39m#  the TypeError.\u001b[39;00m\n\u001b[0;32m   3810\u001b[0m     \u001b[39mself\u001b[39m\u001b[39m.\u001b[39m_check_indexing_error(key)\n",
            "\u001b[1;31mKeyError\u001b[0m: 'tweet_text'"
          ]
        }
      ],
      "source": [
        "from sklearn.feature_extraction.text import TfidfVectorizer\n",
        "from sklearn.cluster import KMeans\n",
        "from nltk.sentiment.vader import SentimentIntensityAnalyzer\n",
        "\n",
        "\n",
        "# Preprocess the data\n",
        "vectorizer = TfidfVectorizer(stop_words='english')\n",
        "tfidf = vectorizer.fit_transform(df['tweet_text'])\n",
        "\n",
        "# Apply k-means clustering to the TF-IDF matrix to obtain the clusters\n",
        "k = 3  # number of clusters\n",
        "kmeans = KMeans(n_clusters=k, random_state=1)\n",
        "clusters = kmeans.fit_predict(tfidf)\n",
        "\n",
        "# Use VADER to calculate sentiment scores for each tweet within each cluster\n",
        "analyzer = SentimentIntensityAnalyzer()\n",
        "sentiment_scores = []\n",
        "for i in range(k):\n",
        "    cluster_tweets = df.loc[clusters == i]\n",
        "    for tweet in cluster_tweets['tweet_text']:\n",
        "        sentiment_score = analyzer.polarity_scores(tweet)\n",
        "        sentiment_scores.append(sentiment_score['compound'])\n",
        "\n",
        "# Print the sentiment scores for each cluster\n",
        "for i, score in enumerate(sentiment_scores):\n",
        "    print(f\"Cluster {i}: {score}\")\n"
      ]
    },
    {
      "cell_type": "code",
      "execution_count": null,
      "metadata": {
        "colab": {
          "base_uri": "https://localhost:8080/",
          "height": 420
        },
        "id": "fad3ba0f",
        "outputId": "615b8483-ef5b-440b-9ba0-276e0fe74c05"
      },
      "outputs": [
        {
          "name": "stderr",
          "output_type": "stream",
          "text": [
            "/usr/local/lib/python3.9/dist-packages/ipykernel/ipkernel.py:283: DeprecationWarning: `should_run_async` will not call `transform_cell` automatically in the future. Please pass the result to `transformed_cell` argument and any exception that happen during thetransform in `preprocessing_exc_tuple` in IPython 7.17 and above.\n",
            "  and should_run_async(code)\n"
          ]
        },
        {
          "data": {
            "text/html": [
              "\n",
              "  <div id=\"df-7dfdc452-6902-4f6d-a9d8-4d8b7b891947\">\n",
              "    <div class=\"colab-df-container\">\n",
              "      <div>\n",
              "<style scoped>\n",
              "    .dataframe tbody tr th:only-of-type {\n",
              "        vertical-align: middle;\n",
              "    }\n",
              "\n",
              "    .dataframe tbody tr th {\n",
              "        vertical-align: top;\n",
              "    }\n",
              "\n",
              "    .dataframe thead th {\n",
              "        text-align: right;\n",
              "    }\n",
              "</style>\n",
              "<table border=\"1\" class=\"dataframe\">\n",
              "  <thead>\n",
              "    <tr style=\"text-align: right;\">\n",
              "      <th></th>\n",
              "      <th>date</th>\n",
              "      <th>tweet_text</th>\n",
              "      <th>processed_text</th>\n",
              "      <th>sentiment_score</th>\n",
              "    </tr>\n",
              "  </thead>\n",
              "  <tbody>\n",
              "    <tr>\n",
              "      <th>0</th>\n",
              "      <td>2022-01-27 14:42:36+00:00</td>\n",
              "      <td>RT GPT-3-like models with extended training co...</td>\n",
              "      <td>[rt, gpt, like, models, extended, training, fu...</td>\n",
              "      <td>0.0000</td>\n",
              "    </tr>\n",
              "    <tr>\n",
              "      <th>1</th>\n",
              "      <td>2022-01-08 08:46:33+00:00</td>\n",
              "      <td>RT Testing GPT-3 on Elementary Physics Unveils...</td>\n",
              "      <td>[rt, testing, gpt, elementary, physics, unveil...</td>\n",
              "      <td>-0.2263</td>\n",
              "    </tr>\n",
              "    <tr>\n",
              "      <th>2</th>\n",
              "      <td>2022-01-08 08:37:45+00:00</td>\n",
              "      <td>Testing GPT-3 on Elementary Physics Unveils So...</td>\n",
              "      <td>[testing, gpt, elementary, physics, unveils, i...</td>\n",
              "      <td>-0.2263</td>\n",
              "    </tr>\n",
              "    <tr>\n",
              "      <th>3</th>\n",
              "      <td>2021-11-26 16:49:24+00:00</td>\n",
              "      <td>Now we know how @BorisJohnson wrote his speech...</td>\n",
              "      <td>[know, borisjohnson, wrote, speech, gpt, piorf...</td>\n",
              "      <td>0.0000</td>\n",
              "    </tr>\n",
              "    <tr>\n",
              "      <th>4</th>\n",
              "      <td>2021-11-26 15:07:12+00:00</td>\n",
              "      <td>@sharplm shares how GPT-3 generates believable...</td>\n",
              "      <td>[sharplm, shares, gpt, generates, believable, ...</td>\n",
              "      <td>-0.3382</td>\n",
              "    </tr>\n",
              "    <tr>\n",
              "      <th>5</th>\n",
              "      <td>2021-11-05 09:39:02+00:00</td>\n",
              "      <td>#ArtificialIntelligence is getting better at #...</td>\n",
              "      <td>[getting, better, writing, amp, universities, ...</td>\n",
              "      <td>0.0000</td>\n",
              "    </tr>\n",
              "    <tr>\n",
              "      <th>6</th>\n",
              "      <td>2022-01-30 09:45:02+00:00</td>\n",
              "      <td>Classifying tweets with GPT-3 is easy! You can...</td>\n",
              "      <td>[classifying, tweets, gpt, easy, use, tool, ca...</td>\n",
              "      <td>0.4926</td>\n",
              "    </tr>\n",
              "    <tr>\n",
              "      <th>7</th>\n",
              "      <td>2022-01-27 14:42:36+00:00</td>\n",
              "      <td>RT GPT-3-like models with extended training co...</td>\n",
              "      <td>[rt, gpt, like, models, extended, training, fu...</td>\n",
              "      <td>0.0000</td>\n",
              "    </tr>\n",
              "    <tr>\n",
              "      <th>8</th>\n",
              "      <td>2022-01-08 08:46:33+00:00</td>\n",
              "      <td>RT Testing GPT-3 on Elementary Physics Unveils...</td>\n",
              "      <td>[rt, testing, gpt, elementary, physics, unveil...</td>\n",
              "      <td>-0.2263</td>\n",
              "    </tr>\n",
              "    <tr>\n",
              "      <th>9</th>\n",
              "      <td>2022-01-08 08:37:45+00:00</td>\n",
              "      <td>Testing GPT-3 on Elementary Physics Unveils So...</td>\n",
              "      <td>[testing, gpt, elementary, physics, unveils, i...</td>\n",
              "      <td>-0.2263</td>\n",
              "    </tr>\n",
              "  </tbody>\n",
              "</table>\n",
              "</div>\n",
              "      <button class=\"colab-df-convert\" onclick=\"convertToInteractive('df-7dfdc452-6902-4f6d-a9d8-4d8b7b891947')\"\n",
              "              title=\"Convert this dataframe to an interactive table.\"\n",
              "              style=\"display:none;\">\n",
              "        \n",
              "  <svg xmlns=\"http://www.w3.org/2000/svg\" height=\"24px\"viewBox=\"0 0 24 24\"\n",
              "       width=\"24px\">\n",
              "    <path d=\"M0 0h24v24H0V0z\" fill=\"none\"/>\n",
              "    <path d=\"M18.56 5.44l.94 2.06.94-2.06 2.06-.94-2.06-.94-.94-2.06-.94 2.06-2.06.94zm-11 1L8.5 8.5l.94-2.06 2.06-.94-2.06-.94L8.5 2.5l-.94 2.06-2.06.94zm10 10l.94 2.06.94-2.06 2.06-.94-2.06-.94-.94-2.06-.94 2.06-2.06.94z\"/><path d=\"M17.41 7.96l-1.37-1.37c-.4-.4-.92-.59-1.43-.59-.52 0-1.04.2-1.43.59L10.3 9.45l-7.72 7.72c-.78.78-.78 2.05 0 2.83L4 21.41c.39.39.9.59 1.41.59.51 0 1.02-.2 1.41-.59l7.78-7.78 2.81-2.81c.8-.78.8-2.07 0-2.86zM5.41 20L4 18.59l7.72-7.72 1.47 1.35L5.41 20z\"/>\n",
              "  </svg>\n",
              "      </button>\n",
              "      \n",
              "  <style>\n",
              "    .colab-df-container {\n",
              "      display:flex;\n",
              "      flex-wrap:wrap;\n",
              "      gap: 12px;\n",
              "    }\n",
              "\n",
              "    .colab-df-convert {\n",
              "      background-color: #E8F0FE;\n",
              "      border: none;\n",
              "      border-radius: 50%;\n",
              "      cursor: pointer;\n",
              "      display: none;\n",
              "      fill: #1967D2;\n",
              "      height: 32px;\n",
              "      padding: 0 0 0 0;\n",
              "      width: 32px;\n",
              "    }\n",
              "\n",
              "    .colab-df-convert:hover {\n",
              "      background-color: #E2EBFA;\n",
              "      box-shadow: 0px 1px 2px rgba(60, 64, 67, 0.3), 0px 1px 3px 1px rgba(60, 64, 67, 0.15);\n",
              "      fill: #174EA6;\n",
              "    }\n",
              "\n",
              "    [theme=dark] .colab-df-convert {\n",
              "      background-color: #3B4455;\n",
              "      fill: #D2E3FC;\n",
              "    }\n",
              "\n",
              "    [theme=dark] .colab-df-convert:hover {\n",
              "      background-color: #434B5C;\n",
              "      box-shadow: 0px 1px 3px 1px rgba(0, 0, 0, 0.15);\n",
              "      filter: drop-shadow(0px 1px 2px rgba(0, 0, 0, 0.3));\n",
              "      fill: #FFFFFF;\n",
              "    }\n",
              "  </style>\n",
              "\n",
              "      <script>\n",
              "        const buttonEl =\n",
              "          document.querySelector('#df-7dfdc452-6902-4f6d-a9d8-4d8b7b891947 button.colab-df-convert');\n",
              "        buttonEl.style.display =\n",
              "          google.colab.kernel.accessAllowed ? 'block' : 'none';\n",
              "\n",
              "        async function convertToInteractive(key) {\n",
              "          const element = document.querySelector('#df-7dfdc452-6902-4f6d-a9d8-4d8b7b891947');\n",
              "          const dataTable =\n",
              "            await google.colab.kernel.invokeFunction('convertToInteractive',\n",
              "                                                     [key], {});\n",
              "          if (!dataTable) return;\n",
              "\n",
              "          const docLinkHtml = 'Like what you see? Visit the ' +\n",
              "            '<a target=\"_blank\" href=https://colab.research.google.com/notebooks/data_table.ipynb>data table notebook</a>'\n",
              "            + ' to learn more about interactive tables.';\n",
              "          element.innerHTML = '';\n",
              "          dataTable['output_type'] = 'display_data';\n",
              "          await google.colab.output.renderOutput(dataTable, element);\n",
              "          const docLink = document.createElement('div');\n",
              "          docLink.innerHTML = docLinkHtml;\n",
              "          element.appendChild(docLink);\n",
              "        }\n",
              "      </script>\n",
              "    </div>\n",
              "  </div>\n",
              "  "
            ],
            "text/plain": [
              "                        date  \\\n",
              "0  2022-01-27 14:42:36+00:00   \n",
              "1  2022-01-08 08:46:33+00:00   \n",
              "2  2022-01-08 08:37:45+00:00   \n",
              "3  2021-11-26 16:49:24+00:00   \n",
              "4  2021-11-26 15:07:12+00:00   \n",
              "5  2021-11-05 09:39:02+00:00   \n",
              "6  2022-01-30 09:45:02+00:00   \n",
              "7  2022-01-27 14:42:36+00:00   \n",
              "8  2022-01-08 08:46:33+00:00   \n",
              "9  2022-01-08 08:37:45+00:00   \n",
              "\n",
              "                                          tweet_text  \\\n",
              "0  RT GPT-3-like models with extended training co...   \n",
              "1  RT Testing GPT-3 on Elementary Physics Unveils...   \n",
              "2  Testing GPT-3 on Elementary Physics Unveils So...   \n",
              "3  Now we know how @BorisJohnson wrote his speech...   \n",
              "4  @sharplm shares how GPT-3 generates believable...   \n",
              "5  #ArtificialIntelligence is getting better at #...   \n",
              "6  Classifying tweets with GPT-3 is easy! You can...   \n",
              "7  RT GPT-3-like models with extended training co...   \n",
              "8  RT Testing GPT-3 on Elementary Physics Unveils...   \n",
              "9  Testing GPT-3 on Elementary Physics Unveils So...   \n",
              "\n",
              "                                      processed_text  sentiment_score  \n",
              "0  [rt, gpt, like, models, extended, training, fu...           0.0000  \n",
              "1  [rt, testing, gpt, elementary, physics, unveil...          -0.2263  \n",
              "2  [testing, gpt, elementary, physics, unveils, i...          -0.2263  \n",
              "3  [know, borisjohnson, wrote, speech, gpt, piorf...           0.0000  \n",
              "4  [sharplm, shares, gpt, generates, believable, ...          -0.3382  \n",
              "5  [getting, better, writing, amp, universities, ...           0.0000  \n",
              "6  [classifying, tweets, gpt, easy, use, tool, ca...           0.4926  \n",
              "7  [rt, gpt, like, models, extended, training, fu...           0.0000  \n",
              "8  [rt, testing, gpt, elementary, physics, unveil...          -0.2263  \n",
              "9  [testing, gpt, elementary, physics, unveils, i...          -0.2263  "
            ]
          },
          "execution_count": 39,
          "metadata": {},
          "output_type": "execute_result"
        }
      ],
      "source": [
        "analyzer = SentimentIntensityAnalyzer()\n",
        "def calculate_sentiment_score(text):\n",
        "    sentiment_score = analyzer.polarity_scores(text)\n",
        "    return sentiment_score['compound']\n",
        "df['sentiment_score']=df['tweet_text'].apply(calculate_sentiment_score)\n",
        "df.head(10)"
      ]
    },
    {
      "cell_type": "code",
      "execution_count": null,
      "metadata": {
        "colab": {
          "base_uri": "https://localhost:8080/"
        },
        "id": "1bc1bc61",
        "outputId": "7d272fe6-a027-4478-8244-15096f636294"
      },
      "outputs": [
        {
          "name": "stdout",
          "output_type": "stream",
          "text": [
            "positive    48242\n",
            "neutral     38300\n",
            "negative    13484\n",
            "Name: sentiment, dtype: int64\n"
          ]
        },
        {
          "name": "stderr",
          "output_type": "stream",
          "text": [
            "/usr/local/lib/python3.9/dist-packages/ipykernel/ipkernel.py:283: DeprecationWarning: `should_run_async` will not call `transform_cell` automatically in the future. Please pass the result to `transformed_cell` argument and any exception that happen during thetransform in `preprocessing_exc_tuple` in IPython 7.17 and above.\n",
            "  and should_run_async(code)\n"
          ]
        }
      ],
      "source": [
        "df['sentiment'] = pd.cut(df['sentiment_score'], bins=[-1, -0.1, 0.1, 1], labels=['negative', 'neutral', 'positive'])\n",
        "print(df['sentiment'].value_counts())\n"
      ]
    },
    {
      "cell_type": "code",
      "execution_count": null,
      "metadata": {
        "colab": {
          "base_uri": "https://localhost:8080/",
          "height": 537
        },
        "id": "cb7a699a",
        "outputId": "f1e79751-8f7a-44a5-9f67-9b5dd7e369b9"
      },
      "outputs": [
        {
          "name": "stderr",
          "output_type": "stream",
          "text": [
            "/usr/local/lib/python3.9/dist-packages/ipykernel/ipkernel.py:283: DeprecationWarning: `should_run_async` will not call `transform_cell` automatically in the future. Please pass the result to `transformed_cell` argument and any exception that happen during thetransform in `preprocessing_exc_tuple` in IPython 7.17 and above.\n",
            "  and should_run_async(code)\n"
          ]
        },
        {
          "data": {
            "image/png": "[encoded data removed]",
            "text/plain": [
              "<Figure size 640x480 with 1 Axes>"
            ]
          },
          "metadata": {},
          "output_type": "display_data"
        }
      ],
      "source": [
        "plt.hist(df['sentiment_score'], bins=20)\n",
        "plt.xlabel('Sentiment Score')\n",
        "plt.ylabel('Frequency')\n",
        "plt.title('Sentiment Analysis of Twitter Data')\n",
        "plt.show()"
      ]
    },
    {
      "cell_type": "code",
      "execution_count": null,
      "metadata": {
        "id": "VzofMflUuzQq"
      },
      "outputs": [],
      "source": [
        "# Define a function to get the sentiment polarity of a text using VADER\n",
        "def get_sentiment(text):\n",
        "    # Use the polarity_scores method of the analyzer to get a dictionary of polarity scores\n",
        "    sentiment_dict = analyzer.polarity_scores(text)\n",
        "    # Extract the sentiment polarity score (positive, negative, neutral, or compound)\n",
        "    sentiment_score = sentiment_dict['compound']\n",
        "    # Classify the sentiment polarity based on the compound score\n",
        "    if sentiment_score >= 0.05:\n",
        "        sentiment = 'positive'\n",
        "    elif sentiment_score <= -0.05:\n",
        "        sentiment = 'negative'\n",
        "    else:\n",
        "        sentiment = 'neutral'\n",
        "    # Return the sentiment polarity label\n",
        "    return sentiment"
      ]
    },
    {
      "cell_type": "code",
      "execution_count": null,
      "metadata": {
        "id": "6EDGn-jvu8_l"
      },
      "outputs": [],
      "source": [
        "# Apply the get_sentiment function to each text in a list of texts\n",
        "texts = ['I love Chatgpt!', 'This hate chatgpt', 'We can learn a lot from chatgpt in education sector']\n",
        "sentiments = [get_sentiment(text) for text in texts]"
      ]
    },
    {
      "cell_type": "code",
      "execution_count": null,
      "metadata": {
        "id": "KUinN6oKvQxI"
      },
      "outputs": [],
      "source": [
        "# Print the texts and their corresponding sentiment polarities\n",
        "for i in range(len(texts)):\n",
        "    print(f'Text: {texts[i]} \\nSentiment: {sentiments[i]}\\n')"
      ]
    },
    {
      "cell_type": "markdown",
      "metadata": {
        "id": "f0U7z5MQR-nN"
      },
      "source": [
        "# Doing Logistic Regression\n",
        "\n",
        "Since, now we have sentiment scores for each tweets we can use sentiment scores as a feature in a supervised learning model. We can use the sentiment scores as one of the independent variables (features) in our model and the dependent variable (target) would depend on what we want to predict. "
      ]
    },
    {
      "cell_type": "code",
      "execution_count": null,
      "metadata": {
        "colab": {
          "base_uri": "https://localhost:8080/"
        },
        "id": "26229bb5",
        "outputId": "1ba50188-90f8-44e7-882a-af05145ec6fb"
      },
      "outputs": [
        {
          "name": "stderr",
          "output_type": "stream",
          "text": [
            "/usr/local/lib/python3.9/dist-packages/ipykernel/ipkernel.py:283: DeprecationWarning: `should_run_async` will not call `transform_cell` automatically in the future. Please pass the result to `transformed_cell` argument and any exception that happen during thetransform in `preprocessing_exc_tuple` in IPython 7.17 and above.\n",
            "  and should_run_async(code)\n"
          ]
        }
      ],
      "source": [
        "from sklearn.linear_model import LogisticRegression\n",
        "from sklearn.model_selection import train_test_split\n",
        "\n",
        "# Split the data into train and test sets\n",
        "X_train, X_test, y_train, y_test = train_test_split(df['processed_text'], df['sentiment_score'], test_size=0.2, random_state=42)\n"
      ]
    },
    {
      "cell_type": "code",
      "execution_count": null,
      "metadata": {
        "colab": {
          "base_uri": "https://localhost:8080/"
        },
        "id": "QD2MJv4uPD7l",
        "outputId": "a7fe6242-0d30-4e4f-e060-b016795d1793"
      },
      "outputs": [
        {
          "name": "stderr",
          "output_type": "stream",
          "text": [
            "/usr/local/lib/python3.9/dist-packages/ipykernel/ipkernel.py:283: DeprecationWarning: `should_run_async` will not call `transform_cell` automatically in the future. Please pass the result to `transformed_cell` argument and any exception that happen during thetransform in `preprocessing_exc_tuple` in IPython 7.17 and above.\n",
            "  and should_run_async(code)\n"
          ]
        }
      ],
      "source": [
        "# Vectorize the text data\n",
        "vectorizer = TfidfVectorizer(stop_words='english')\n",
        "X_train_tfidf = vectorizer.fit_transform([' '.join(text) for text in X_train])\n",
        "X_test_tfidf = vectorizer.transform([' '.join(text) for text in X_test])\n"
      ]
    },
    {
      "cell_type": "code",
      "execution_count": null,
      "metadata": {
        "colab": {
          "base_uri": "https://localhost:8080/"
        },
        "id": "L5wYfgXnPD3s",
        "outputId": "d40070ab-4006-47bf-d5a6-4f38f038f922"
      },
      "outputs": [
        {
          "name": "stderr",
          "output_type": "stream",
          "text": [
            "/usr/local/lib/python3.9/dist-packages/ipykernel/ipkernel.py:283: DeprecationWarning: `should_run_async` will not call `transform_cell` automatically in the future. Please pass the result to `transformed_cell` argument and any exception that happen during thetransform in `preprocessing_exc_tuple` in IPython 7.17 and above.\n",
            "  and should_run_async(code)\n"
          ]
        }
      ],
      "source": [
        "# Convert sentiment scores to binary labels\n",
        "y_train_binary = np.where(y_train >= 0, 1, 0)\n",
        "y_test_binary = np.where(y_test >= 0, 1, 0)\n"
      ]
    },
    {
      "cell_type": "code",
      "execution_count": null,
      "metadata": {
        "colab": {
          "base_uri": "https://localhost:8080/",
          "height": 132
        },
        "id": "FaQ7QAsgXeP8",
        "outputId": "f0dd25e4-6a69-4904-c7aa-abe0edaff77c"
      },
      "outputs": [
        {
          "name": "stderr",
          "output_type": "stream",
          "text": [
            "/usr/local/lib/python3.9/dist-packages/ipykernel/ipkernel.py:283: DeprecationWarning: `should_run_async` will not call `transform_cell` automatically in the future. Please pass the result to `transformed_cell` argument and any exception that happen during thetransform in `preprocessing_exc_tuple` in IPython 7.17 and above.\n",
            "  and should_run_async(code)\n"
          ]
        },
        {
          "data": {
            "text/html": [
              "<style>#sk-container-id-1 {color: black;background-color: white;}#sk-container-id-1 pre{padding: 0;}#sk-container-id-1 div.sk-toggleable {background-color: white;}#sk-container-id-1 label.sk-toggleable__label {cursor: pointer;display: block;width: 100%;margin-bottom: 0;padding: 0.3em;box-sizing: border-box;text-align: center;}#sk-container-id-1 label.sk-toggleable__label-arrow:before {content: \"▸\";float: left;margin-right: 0.25em;color: #696969;}#sk-container-id-1 label.sk-toggleable__label-arrow:hover:before {color: black;}#sk-container-id-1 div.sk-estimator:hover label.sk-toggleable__label-arrow:before {color: black;}#sk-container-id-1 div.sk-toggleable__content {max-height: 0;max-width: 0;overflow: hidden;text-align: left;background-color: #f0f8ff;}#sk-container-id-1 div.sk-toggleable__content pre {margin: 0.2em;color: black;border-radius: 0.25em;background-color: #f0f8ff;}#sk-container-id-1 input.sk-toggleable__control:checked~div.sk-toggleable__content {max-height: 200px;max-width: 100%;overflow: auto;}#sk-container-id-1 input.sk-toggleable__control:checked~label.sk-toggleable__label-arrow:before {content: \"▾\";}#sk-container-id-1 div.sk-estimator input.sk-toggleable__control:checked~label.sk-toggleable__label {background-color: #d4ebff;}#sk-container-id-1 div.sk-label input.sk-toggleable__control:checked~label.sk-toggleable__label {background-color: #d4ebff;}#sk-container-id-1 input.sk-hidden--visually {border: 0;clip: rect(1px 1px 1px 1px);clip: rect(1px, 1px, 1px, 1px);height: 1px;margin: -1px;overflow: hidden;padding: 0;position: absolute;width: 1px;}#sk-container-id-1 div.sk-estimator {font-family: monospace;background-color: #f0f8ff;border: 1px dotted black;border-radius: 0.25em;box-sizing: border-box;margin-bottom: 0.5em;}#sk-container-id-1 div.sk-estimator:hover {background-color: #d4ebff;}#sk-container-id-1 div.sk-parallel-item::after {content: \"\";width: 100%;border-bottom: 1px solid gray;flex-grow: 1;}#sk-container-id-1 div.sk-label:hover label.sk-toggleable__label {background-color: #d4ebff;}#sk-container-id-1 div.sk-serial::before {content: \"\";position: absolute;border-left: 1px solid gray;box-sizing: border-box;top: 0;bottom: 0;left: 50%;z-index: 0;}#sk-container-id-1 div.sk-serial {display: flex;flex-direction: column;align-items: center;background-color: white;padding-right: 0.2em;padding-left: 0.2em;position: relative;}#sk-container-id-1 div.sk-item {position: relative;z-index: 1;}#sk-container-id-1 div.sk-parallel {display: flex;align-items: stretch;justify-content: center;background-color: white;position: relative;}#sk-container-id-1 div.sk-item::before, #sk-container-id-1 div.sk-parallel-item::before {content: \"\";position: absolute;border-left: 1px solid gray;box-sizing: border-box;top: 0;bottom: 0;left: 50%;z-index: -1;}#sk-container-id-1 div.sk-parallel-item {display: flex;flex-direction: column;z-index: 1;position: relative;background-color: white;}#sk-container-id-1 div.sk-parallel-item:first-child::after {align-self: flex-end;width: 50%;}#sk-container-id-1 div.sk-parallel-item:last-child::after {align-self: flex-start;width: 50%;}#sk-container-id-1 div.sk-parallel-item:only-child::after {width: 0;}#sk-container-id-1 div.sk-dashed-wrapped {border: 1px dashed gray;margin: 0 0.4em 0.5em 0.4em;box-sizing: border-box;padding-bottom: 0.4em;background-color: white;}#sk-container-id-1 div.sk-label label {font-family: monospace;font-weight: bold;display: inline-block;line-height: 1.2em;}#sk-container-id-1 div.sk-label-container {text-align: center;}#sk-container-id-1 div.sk-container {/* jupyter's `normalize.less` sets `[hidden] { display: none; }` but bootstrap.min.css set `[hidden] { display: none !important; }` so we also need the `!important` here to be able to override the default hidden behavior on the sphinx rendered scikit-learn.org. See: https://github.com/scikit-learn/scikit-learn/issues/21755 */display: inline-block !important;position: relative;}#sk-container-id-1 div.sk-text-repr-fallback {display: none;}</style><div id=\"sk-container-id-1\" class=\"sk-top-container\"><div class=\"sk-text-repr-fallback\"><pre>LogisticRegression()</pre><b>In a Jupyter environment, please rerun this cell to show the HTML representation or trust the notebook. <br />On GitHub, the HTML representation is unable to render, please try loading this page with nbviewer.org.</b></div><div class=\"sk-container\" hidden><div class=\"sk-item\"><div class=\"sk-estimator sk-toggleable\"><input class=\"sk-toggleable__control sk-hidden--visually\" id=\"sk-estimator-id-1\" type=\"checkbox\" checked><label for=\"sk-estimator-id-1\" class=\"sk-toggleable__label sk-toggleable__label-arrow\">LogisticRegression</label><div class=\"sk-toggleable__content\"><pre>LogisticRegression()</pre></div></div></div></div></div>"
            ],
            "text/plain": [
              "LogisticRegression()"
            ]
          },
          "execution_count": 46,
          "metadata": {},
          "output_type": "execute_result"
        }
      ],
      "source": [
        "# Create a logistic regression model and fit it to the data\n",
        "logreg = LogisticRegression()\n",
        "logreg.fit(X_train_tfidf, y_train_binary)"
      ]
    },
    {
      "cell_type": "code",
      "execution_count": null,
      "metadata": {
        "colab": {
          "base_uri": "https://localhost:8080/"
        },
        "id": "w0n9kbdvPDzj",
        "outputId": "7e2bf4d1-13a2-46b1-fd46-3af1714156b7"
      },
      "outputs": [
        {
          "name": "stdout",
          "output_type": "stream",
          "text": [
            "Accuracy: 0.9999500149955014\n"
          ]
        },
        {
          "name": "stderr",
          "output_type": "stream",
          "text": [
            "/usr/local/lib/python3.9/dist-packages/ipykernel/ipkernel.py:283: DeprecationWarning: `should_run_async` will not call `transform_cell` automatically in the future. Please pass the result to `transformed_cell` argument and any exception that happen during thetransform in `preprocessing_exc_tuple` in IPython 7.17 and above.\n",
            "  and should_run_async(code)\n"
          ]
        }
      ],
      "source": [
        "from sklearn.metrics import accuracy_score, precision_score, recall_score, f1_score\n",
        "\n",
        "\n",
        "# Evaluate the model on the test set\n",
        "y_pred = logreg.predict(X_test_tfidf)\n",
        "score = accuracy_score(y_test_binary, y_pred)\n",
        "print(\"Accuracy:\", score)"
      ]
    },
    {
      "cell_type": "code",
      "execution_count": null,
      "metadata": {
        "colab": {
          "base_uri": "https://localhost:8080/"
        },
        "id": "UMn-jss3YGNk",
        "outputId": "ea6b20a8-9fa7-4611-cc66-8ec08665d30e"
      },
      "outputs": [
        {
          "name": "stdout",
          "output_type": "stream",
          "text": [
            "Precision: 0.999941605839416\n"
          ]
        },
        {
          "name": "stderr",
          "output_type": "stream",
          "text": [
            "/usr/local/lib/python3.9/dist-packages/ipykernel/ipkernel.py:283: DeprecationWarning: `should_run_async` will not call `transform_cell` automatically in the future. Please pass the result to `transformed_cell` argument and any exception that happen during thetransform in `preprocessing_exc_tuple` in IPython 7.17 and above.\n",
            "  and should_run_async(code)\n"
          ]
        }
      ],
      "source": [
        "# Calculate precision\n",
        "precision = precision_score(y_test_binary, y_pred)\n",
        "print(\"Precision:\", precision)"
      ]
    },
    {
      "cell_type": "code",
      "execution_count": null,
      "metadata": {
        "colab": {
          "base_uri": "https://localhost:8080/"
        },
        "id": "CHnygiykYGID",
        "outputId": "50e61a1a-89bb-4ffe-c345-db2958eb36f0"
      },
      "outputs": [
        {
          "name": "stdout",
          "output_type": "stream",
          "text": [
            "Recall: 1.0\n"
          ]
        },
        {
          "name": "stderr",
          "output_type": "stream",
          "text": [
            "/usr/local/lib/python3.9/dist-packages/ipykernel/ipkernel.py:283: DeprecationWarning: `should_run_async` will not call `transform_cell` automatically in the future. Please pass the result to `transformed_cell` argument and any exception that happen during thetransform in `preprocessing_exc_tuple` in IPython 7.17 and above.\n",
            "  and should_run_async(code)\n"
          ]
        }
      ],
      "source": [
        "# Calculate recall\n",
        "recall = recall_score(y_test_binary, y_pred)\n",
        "print(\"Recall:\", recall)"
      ]
    },
    {
      "cell_type": "code",
      "execution_count": null,
      "metadata": {
        "colab": {
          "base_uri": "https://localhost:8080/"
        },
        "id": "uFrBKnGFYGDC",
        "outputId": "bda2c50e-4b1d-4932-fe45-e0b1c71b5f52"
      },
      "outputs": [
        {
          "name": "stdout",
          "output_type": "stream",
          "text": [
            "F1 score: 0.9999708020672136\n"
          ]
        },
        {
          "name": "stderr",
          "output_type": "stream",
          "text": [
            "/usr/local/lib/python3.9/dist-packages/ipykernel/ipkernel.py:283: DeprecationWarning: `should_run_async` will not call `transform_cell` automatically in the future. Please pass the result to `transformed_cell` argument and any exception that happen during thetransform in `preprocessing_exc_tuple` in IPython 7.17 and above.\n",
            "  and should_run_async(code)\n"
          ]
        }
      ],
      "source": [
        "# Calculate F1 score\n",
        "f1 = f1_score(y_test_binary, y_pred)\n",
        "print(\"F1 score:\", f1)"
      ]
    },
    {
      "cell_type": "code",
      "execution_count": null,
      "metadata": {
        "colab": {
          "base_uri": "https://localhost:8080/"
        },
        "id": "6k8JtwzAZVDv",
        "outputId": "13f27b78-04d0-4ce7-ec22-ce15d1b04fcc"
      },
      "outputs": [
        {
          "name": "stdout",
          "output_type": "stream",
          "text": [
            "              precision    recall  f1-score   support\n",
            "\n",
            "           0       1.00      1.00      1.00      2882\n",
            "           1       1.00      1.00      1.00     17124\n",
            "\n",
            "    accuracy                           1.00     20006\n",
            "   macro avg       1.00      1.00      1.00     20006\n",
            "weighted avg       1.00      1.00      1.00     20006\n",
            "\n"
          ]
        },
        {
          "name": "stderr",
          "output_type": "stream",
          "text": [
            "/usr/local/lib/python3.9/dist-packages/ipykernel/ipkernel.py:283: DeprecationWarning: `should_run_async` will not call `transform_cell` automatically in the future. Please pass the result to `transformed_cell` argument and any exception that happen during thetransform in `preprocessing_exc_tuple` in IPython 7.17 and above.\n",
            "  and should_run_async(code)\n"
          ]
        }
      ],
      "source": [
        "from sklearn.metrics import classification_report\n",
        "\n",
        "print(classification_report(y_test_binary, y_pred))\n"
      ]
    },
    {
      "cell_type": "code",
      "execution_count": null,
      "metadata": {
        "colab": {
          "base_uri": "https://localhost:8080/",
          "height": 515
        },
        "id": "H7E1LCcyPDvp",
        "outputId": "707e9bdc-3a14-43d0-9c56-16cd6df8525e"
      },
      "outputs": [
        {
          "name": "stderr",
          "output_type": "stream",
          "text": [
            "/usr/local/lib/python3.9/dist-packages/ipykernel/ipkernel.py:283: DeprecationWarning: `should_run_async` will not call `transform_cell` automatically in the future. Please pass the result to `transformed_cell` argument and any exception that happen during thetransform in `preprocessing_exc_tuple` in IPython 7.17 and above.\n",
            "  and should_run_async(code)\n"
          ]
        },
        {
          "data": {
            "image/png": "[encoded data removed]",
            "text/plain": [
              "<Figure size 640x480 with 2 Axes>"
            ]
          },
          "metadata": {},
          "output_type": "display_data"
        }
      ],
      "source": [
        "from sklearn.metrics import confusion_matrix\n",
        "import seaborn as sns\n",
        "\n",
        "# Calculate the confusion matrix\n",
        "cm = confusion_matrix(y_test_binary, y_pred)\n",
        "\n",
        "# Plot the confusion matrix\n",
        "sns.heatmap(cm, annot=True, cmap='Blues', fmt='g')\n",
        "plt.xlabel('Predicted')\n",
        "plt.ylabel('Actual')\n",
        "plt.show()\n"
      ]
    },
    {
      "cell_type": "markdown",
      "metadata": {
        "id": "gIFzh9-TdCFy"
      },
      "source": [
        "# SentiWordNet \n",
        "\n",
        "SentiWordNet is a lexical resource for sentiment analysis that assigns to each synset (a set of synonyms that share a common meaning) in WordNet three sentiment scores: positivity, negativity, and objectivity. These scores indicate the degree of positivity, negativity, and objectivity associated with the synset. SentiWordNet is built using the WordNet lexical database, which provides a large set of synsets organized into a network of semantic relations.\n"
      ]
    },
    {
      "cell_type": "code",
      "execution_count": null,
      "metadata": {
        "id": "ot6B9W4p6DQK"
      },
      "outputs": [],
      "source": [
        "df = pd.read_csv('/content/chatgpt_tweets-4.csv')"
      ]
    },
    {
      "cell_type": "code",
      "execution_count": null,
      "metadata": {
        "id": "YuUW8bmedGaC"
      },
      "outputs": [],
      "source": [
        "import nltk\n",
        "from nltk.corpus import sentiwordnet as swn\n",
        "from nltk.tokenize import word_tokenize\n",
        "from nltk.corpus import stopwords\n",
        "import pandas as pd\n"
      ]
    },
    {
      "cell_type": "code",
      "execution_count": null,
      "metadata": {
        "id": "6gdmRlsCdTAe"
      },
      "outputs": [],
      "source": [
        "# Preprocess the text data\n",
        "def preprocess_text(text):\n",
        "    # Tokenize the text\n",
        "    tokens = word_tokenize(text.lower())\n",
        "    # Remove stopwords and punctuations\n",
        "    tokens = [word for word in tokens if word.isalnum() and word not in stopwords.words('english')]\n",
        "    return tokens"
      ]
    },
    {
      "cell_type": "code",
      "execution_count": null,
      "metadata": {
        "colab": {
          "base_uri": "https://localhost:8080/"
        },
        "id": "CXgjFBAOdUr2",
        "outputId": "a40aaae4-5d94-4dbc-d2ef-d012e98b9f16"
      },
      "outputs": [
        {
          "name": "stderr",
          "output_type": "stream",
          "text": [
            "[nltk_data] Downloading package stopwords to /root/nltk_data...\n",
            "[nltk_data]   Package stopwords is already up-to-date!\n",
            "[nltk_data] Downloading package averaged_perceptron_tagger to\n",
            "[nltk_data]     /root/nltk_data...\n",
            "[nltk_data]   Unzipping taggers/averaged_perceptron_tagger.zip.\n",
            "[nltk_data] Downloading package sentiwordnet to /root/nltk_data...\n",
            "[nltk_data]   Unzipping corpora/sentiwordnet.zip.\n"
          ]
        },
        {
          "data": {
            "text/plain": [
              "True"
            ]
          },
          "execution_count": 9,
          "metadata": {},
          "output_type": "execute_result"
        }
      ],
      "source": [
        "# Download necessary NLTK data\n",
        "nltk.download('stopwords')\n",
        "nltk.download('averaged_perceptron_tagger')\n",
        "nltk.download('sentiwordnet')\n",
        "\n"
      ]
    },
    {
      "cell_type": "code",
      "execution_count": null,
      "metadata": {
        "colab": {
          "base_uri": "https://localhost:8080/"
        },
        "id": "hI4YL02Sdbou",
        "outputId": "fb1eec59-c5e0-4018-9563-3369d8bf19ac"
      },
      "outputs": [
        {
          "name": "stderr",
          "output_type": "stream",
          "text": [
            "[nltk_data] Downloading package punkt to /root/nltk_data...\n",
            "[nltk_data]   Package punkt is already up-to-date!\n"
          ]
        },
        {
          "data": {
            "text/plain": [
              "True"
            ]
          },
          "execution_count": 10,
          "metadata": {},
          "output_type": "execute_result"
        }
      ],
      "source": [
        "import nltk\n",
        "nltk.download('punkt')\n"
      ]
    },
    {
      "cell_type": "code",
      "execution_count": null,
      "metadata": {
        "id": "F-q4ddc9ddjJ"
      },
      "outputs": [],
      "source": [
        "from nltk.corpus import sentiwordnet as swn\n",
        "from nltk.corpus import wordnet as wn\n",
        "from nltk.stem import WordNetLemmatizer\n",
        "from nltk.tokenize import RegexpTokenizer\n",
        "\n",
        "def get_sentiment_score(text):\n",
        "    try:\n",
        "        lemmatizer = WordNetLemmatizer()\n",
        "        tokenizer = RegexpTokenizer(r'\\w+')\n",
        "        tokens = tokenizer.tokenize(text)\n",
        "        pos_score = 0\n",
        "        neg_score = 0\n",
        "        obj_score = 0\n",
        "        for token in tokens:\n",
        "            lemma = lemmatizer.lemmatize(token)\n",
        "            synsets = list(swn.senti_synsets(lemma))\n",
        "            if len(synsets) > 0:\n",
        "                pos_score += synsets[0].pos_score()\n",
        "                neg_score += synsets[0].neg_score()\n",
        "                obj_score += synsets[0].obj_score()\n",
        "        return pos_score, neg_score, obj_score\n",
        "    except KeyError:\n",
        "        return None, None, None"
      ]
    },
    {
      "cell_type": "code",
      "execution_count": null,
      "metadata": {
        "colab": {
          "base_uri": "https://localhost:8080/"
        },
        "id": "cyUZsVXYdla8",
        "outputId": "379a378b-7bf4-4274-a81e-701a11cb0428"
      },
      "outputs": [
        {
          "name": "stderr",
          "output_type": "stream",
          "text": [
            "[nltk_data] Downloading package wordnet to /root/nltk_data...\n",
            "[nltk_data] Downloading package punkt to /root/nltk_data...\n",
            "[nltk_data]   Package punkt is already up-to-date!\n",
            "[nltk_data] Downloading package averaged_perceptron_tagger to\n",
            "[nltk_data]     /root/nltk_data...\n",
            "[nltk_data]   Package averaged_perceptron_tagger is already up-to-\n",
            "[nltk_data]       date!\n",
            "[nltk_data] Downloading package universal_tagset to /root/nltk_data...\n",
            "[nltk_data]   Unzipping taggers/universal_tagset.zip.\n"
          ]
        },
        {
          "data": {
            "text/plain": [
              "True"
            ]
          },
          "execution_count": 13,
          "metadata": {},
          "output_type": "execute_result"
        }
      ],
      "source": [
        "import nltk\n",
        "nltk.download('wordnet')\n",
        "import nltk\n",
        "nltk.download('punkt')\n",
        "nltk.download('averaged_perceptron_tagger')\n",
        "import nltk\n",
        "nltk.download('universal_tagset')\n"
      ]
    },
    {
      "cell_type": "code",
      "execution_count": null,
      "metadata": {
        "id": "h9IatZPddfq1"
      },
      "outputs": [],
      "source": [
        "from nltk import pos_tag\n",
        "\n",
        "# Apply the function to each tweet in the dataset\n",
        "df['pos_score'], df['neg_score'], df['obj_score'] = zip(*df['tweet_text'].apply(get_sentiment_score))"
      ]
    },
    {
      "cell_type": "code",
      "execution_count": null,
      "metadata": {
        "id": "plEf2eDWdikD"
      },
      "outputs": [],
      "source": [
        "# Calculate the overall sentiment score for each tweet\n",
        "df['sentiment_score'] = df['pos_score'] - df['neg_score']"
      ]
    },
    {
      "cell_type": "code",
      "execution_count": null,
      "metadata": {
        "id": "tUFLePDJdx7P"
      },
      "outputs": [],
      "source": [
        "\n",
        "# Classify each tweet as positive, negative, or neutral based on the sentiment score\n",
        "df['sentiment'] = df['sentiment_score'].apply(lambda score: 'positive' if score > 0 else 'negative' if score < 0 else 'neutral')\n"
      ]
    },
    {
      "cell_type": "code",
      "execution_count": null,
      "metadata": {
        "colab": {
          "base_uri": "https://localhost:8080/"
        },
        "id": "kVf5zh9Ddx2w",
        "outputId": "f66fbf7f-4b21-490f-8c04-10b9a53204b7"
      },
      "outputs": [
        {
          "name": "stdout",
          "output_type": "stream",
          "text": [
            "                        date  \\\n",
            "0  2022-01-27 14:42:36+00:00   \n",
            "1  2022-01-08 08:46:33+00:00   \n",
            "2  2022-01-08 08:37:45+00:00   \n",
            "3  2021-11-26 16:49:24+00:00   \n",
            "4  2021-11-26 15:07:12+00:00   \n",
            "\n",
            "                                          tweet_text  pos_score  neg_score  \\\n",
            "0  RT GPT-3-like models with extended training co...      0.500      0.000   \n",
            "1  RT Testing GPT-3 on Elementary Physics Unveils...      1.375      1.125   \n",
            "2  Testing GPT-3 on Elementary Physics Unveils So...      2.125      1.375   \n",
            "3  Now we know how @BorisJohnson wrote his speech...      0.625      0.000   \n",
            "4  @sharplm shares how GPT-3 generates believable...      1.875      0.750   \n",
            "\n",
            "   obj_score  sentiment_score sentiment  \n",
            "0     20.500            0.500  positive  \n",
            "1     14.500            0.250  positive  \n",
            "2     15.500            0.750  positive  \n",
            "3      6.375            0.625  positive  \n",
            "4     25.375            1.125  positive  \n"
          ]
        }
      ],
      "source": [
        "# Print the resulting dataframe\n",
        "print(df.head())"
      ]
    },
    {
      "cell_type": "code",
      "execution_count": null,
      "metadata": {
        "colab": {
          "base_uri": "https://localhost:8080/",
          "height": 542
        },
        "id": "dHPpm_hpd0_H",
        "outputId": "fdb295cb-dbb8-4b69-f5f6-a5ffa837fe07"
      },
      "outputs": [
        {
          "data": {
            "text/html": [
              "<html>\n",
              "<head><meta charset=\"utf-8\" /></head>\n",
              "<body>\n",
              "    <div>            <script src=\"https://cdnjs.cloudflare.com/ajax/libs/mathjax/2.7.5/MathJax.js?config=TeX-AMS-MML_SVG\"></script><script type=\"text/javascript\">if (window.MathJax && window.MathJax.Hub && window.MathJax.Hub.Config) {window.MathJax.Hub.Config({SVG: {font: \"STIX-Web\"}});}</script>                <script type=\"text/javascript\">window.PlotlyConfig = {MathJaxConfig: 'local'};</script>\n",
              "        <script src=\"https://cdn.plot.ly/plotly-2.18.2.min.js\"></script>                <div id=\"d66b0057-edcf-4b89-9724-9afb0f612f00\" class=\"plotly-graph-div\" style=\"height:525px; width:100%;\"></div>            <script type=\"text/javascript\">                                    window.PLOTLYENV=window.PLOTLYENV || {};                                    if (document.getElementById(\"d66b0057-edcf-4b89-9724-9afb0f612f00\")) {                    Plotly.newPlot(                        \"d66b0057-edcf-4b89-9724-9afb0f612f00\",                        [{\"x\":[\"positive\",\"neutral\",\"negative\"],\"y\":[76539,13115,10372],\"type\":\"bar\"}],                        {\"title\":{\"text\":\"Sentiment Analysis Results\"},\"xaxis\":{\"title\":{\"text\":\"Sentiment\"}},\"yaxis\":{\"title\":{\"text\":\"Number of Tweets\"}},\"template\":{\"data\":{\"histogram2dcontour\":[{\"type\":\"histogram2dcontour\",\"colorbar\":{\"outlinewidth\":0,\"ticks\":\"\"},\"colorscale\":[[0.0,\"#0d0887\"],[0.1111111111111111,\"#46039f\"],[0.2222222222222222,\"#7201a8\"],[0.3333333333333333,\"#9c179e\"],[0.4444444444444444,\"#bd3786\"],[0.5555555555555556,\"#d8576b\"],[0.6666666666666666,\"#ed7953\"],[0.7777777777777778,\"#fb9f3a\"],[0.8888888888888888,\"#fdca26\"],[1.0,\"#f0f921\"]]}],\"choropleth\":[{\"type\":\"choropleth\",\"colorbar\":{\"outlinewidth\":0,\"ticks\":\"\"}}],\"histogram2d\":[{\"type\":\"histogram2d\",\"colorbar\":{\"outlinewidth\":0,\"ticks\":\"\"},\"colorscale\":[[0.0,\"#0d0887\"],[0.1111111111111111,\"#46039f\"],[0.2222222222222222,\"#7201a8\"],[0.3333333333333333,\"#9c179e\"],[0.4444444444444444,\"#bd3786\"],[0.5555555555555556,\"#d8576b\"],[0.6666666666666666,\"#ed7953\"],[0.7777777777777778,\"#fb9f3a\"],[0.8888888888888888,\"#fdca26\"],[1.0,\"#f0f921\"]]}],\"heatmap\":[{\"type\":\"heatmap\",\"colorbar\":{\"outlinewidth\":0,\"ticks\":\"\"},\"colorscale\":[[0.0,\"#0d0887\"],[0.1111111111111111,\"#46039f\"],[0.2222222222222222,\"#7201a8\"],[0.3333333333333333,\"#9c179e\"],[0.4444444444444444,\"#bd3786\"],[0.5555555555555556,\"#d8576b\"],[0.6666666666666666,\"#ed7953\"],[0.7777777777777778,\"#fb9f3a\"],[0.8888888888888888,\"#fdca26\"],[1.0,\"#f0f921\"]]}],\"heatmapgl\":[{\"type\":\"heatmapgl\",\"colorbar\":{\"outlinewidth\":0,\"ticks\":\"\"},\"colorscale\":[[0.0,\"#0d0887\"],[0.1111111111111111,\"#46039f\"],[0.2222222222222222,\"#7201a8\"],[0.3333333333333333,\"#9c179e\"],[0.4444444444444444,\"#bd3786\"],[0.5555555555555556,\"#d8576b\"],[0.6666666666666666,\"#ed7953\"],[0.7777777777777778,\"#fb9f3a\"],[0.8888888888888888,\"#fdca26\"],[1.0,\"#f0f921\"]]}],\"contourcarpet\":[{\"type\":\"contourcarpet\",\"colorbar\":{\"outlinewidth\":0,\"ticks\":\"\"}}],\"contour\":[{\"type\":\"contour\",\"colorbar\":{\"outlinewidth\":0,\"ticks\":\"\"},\"colorscale\":[[0.0,\"#0d0887\"],[0.1111111111111111,\"#46039f\"],[0.2222222222222222,\"#7201a8\"],[0.3333333333333333,\"#9c179e\"],[0.4444444444444444,\"#bd3786\"],[0.5555555555555556,\"#d8576b\"],[0.6666666666666666,\"#ed7953\"],[0.7777777777777778,\"#fb9f3a\"],[0.8888888888888888,\"#fdca26\"],[1.0,\"#f0f921\"]]}],\"surface\":[{\"type\":\"surface\",\"colorbar\":{\"outlinewidth\":0,\"ticks\":\"\"},\"colorscale\":[[0.0,\"#0d0887\"],[0.1111111111111111,\"#46039f\"],[0.2222222222222222,\"#7201a8\"],[0.3333333333333333,\"#9c179e\"],[0.4444444444444444,\"#bd3786\"],[0.5555555555555556,\"#d8576b\"],[0.6666666666666666,\"#ed7953\"],[0.7777777777777778,\"#fb9f3a\"],[0.8888888888888888,\"#fdca26\"],[1.0,\"#f0f921\"]]}],\"mesh3d\":[{\"type\":\"mesh3d\",\"colorbar\":{\"outlinewidth\":0,\"ticks\":\"\"}}],\"scatter\":[{\"fillpattern\":{\"fillmode\":\"overlay\",\"size\":10,\"solidity\":0.2},\"type\":\"scatter\"}],\"parcoords\":[{\"type\":\"parcoords\",\"line\":{\"colorbar\":{\"outlinewidth\":0,\"ticks\":\"\"}}}],\"scatterpolargl\":[{\"type\":\"scatterpolargl\",\"marker\":{\"colorbar\":{\"outlinewidth\":0,\"ticks\":\"\"}}}],\"bar\":[{\"error_x\":{\"color\":\"#2a3f5f\"},\"error_y\":{\"color\":\"#2a3f5f\"},\"marker\":{\"line\":{\"color\":\"#E5ECF6\",\"width\":0.5},\"pattern\":{\"fillmode\":\"overlay\",\"size\":10,\"solidity\":0.2}},\"type\":\"bar\"}],\"scattergeo\":[{\"type\":\"scattergeo\",\"marker\":{\"colorbar\":{\"outlinewidth\":0,\"ticks\":\"\"}}}],\"scatterpolar\":[{\"type\":\"scatterpolar\",\"marker\":{\"colorbar\":{\"outlinewidth\":0,\"ticks\":\"\"}}}],\"histogram\":[{\"marker\":{\"pattern\":{\"fillmode\":\"overlay\",\"size\":10,\"solidity\":0.2}},\"type\":\"histogram\"}],\"scattergl\":[{\"type\":\"scattergl\",\"marker\":{\"colorbar\":{\"outlinewidth\":0,\"ticks\":\"\"}}}],\"scatter3d\":[{\"type\":\"scatter3d\",\"line\":{\"colorbar\":{\"outlinewidth\":0,\"ticks\":\"\"}},\"marker\":{\"colorbar\":{\"outlinewidth\":0,\"ticks\":\"\"}}}],\"scattermapbox\":[{\"type\":\"scattermapbox\",\"marker\":{\"colorbar\":{\"outlinewidth\":0,\"ticks\":\"\"}}}],\"scatterternary\":[{\"type\":\"scatterternary\",\"marker\":{\"colorbar\":{\"outlinewidth\":0,\"ticks\":\"\"}}}],\"scattercarpet\":[{\"type\":\"scattercarpet\",\"marker\":{\"colorbar\":{\"outlinewidth\":0,\"ticks\":\"\"}}}],\"carpet\":[{\"aaxis\":{\"endlinecolor\":\"#2a3f5f\",\"gridcolor\":\"white\",\"linecolor\":\"white\",\"minorgridcolor\":\"white\",\"startlinecolor\":\"#2a3f5f\"},\"baxis\":{\"endlinecolor\":\"#2a3f5f\",\"gridcolor\":\"white\",\"linecolor\":\"white\",\"minorgridcolor\":\"white\",\"startlinecolor\":\"#2a3f5f\"},\"type\":\"carpet\"}],\"table\":[{\"cells\":{\"fill\":{\"color\":\"#EBF0F8\"},\"line\":{\"color\":\"white\"}},\"header\":{\"fill\":{\"color\":\"#C8D4E3\"},\"line\":{\"color\":\"white\"}},\"type\":\"table\"}],\"barpolar\":[{\"marker\":{\"line\":{\"color\":\"#E5ECF6\",\"width\":0.5},\"pattern\":{\"fillmode\":\"overlay\",\"size\":10,\"solidity\":0.2}},\"type\":\"barpolar\"}],\"pie\":[{\"automargin\":true,\"type\":\"pie\"}]},\"layout\":{\"autotypenumbers\":\"strict\",\"colorway\":[\"#636efa\",\"#EF553B\",\"#00cc96\",\"#ab63fa\",\"#FFA15A\",\"#19d3f3\",\"#FF6692\",\"#B6E880\",\"#FF97FF\",\"#FECB52\"],\"font\":{\"color\":\"#2a3f5f\"},\"hovermode\":\"closest\",\"hoverlabel\":{\"align\":\"left\"},\"paper_bgcolor\":\"white\",\"plot_bgcolor\":\"#E5ECF6\",\"polar\":{\"bgcolor\":\"#E5ECF6\",\"angularaxis\":{\"gridcolor\":\"white\",\"linecolor\":\"white\",\"ticks\":\"\"},\"radialaxis\":{\"gridcolor\":\"white\",\"linecolor\":\"white\",\"ticks\":\"\"}},\"ternary\":{\"bgcolor\":\"#E5ECF6\",\"aaxis\":{\"gridcolor\":\"white\",\"linecolor\":\"white\",\"ticks\":\"\"},\"baxis\":{\"gridcolor\":\"white\",\"linecolor\":\"white\",\"ticks\":\"\"},\"caxis\":{\"gridcolor\":\"white\",\"linecolor\":\"white\",\"ticks\":\"\"}},\"coloraxis\":{\"colorbar\":{\"outlinewidth\":0,\"ticks\":\"\"}},\"colorscale\":{\"sequential\":[[0.0,\"#0d0887\"],[0.1111111111111111,\"#46039f\"],[0.2222222222222222,\"#7201a8\"],[0.3333333333333333,\"#9c179e\"],[0.4444444444444444,\"#bd3786\"],[0.5555555555555556,\"#d8576b\"],[0.6666666666666666,\"#ed7953\"],[0.7777777777777778,\"#fb9f3a\"],[0.8888888888888888,\"#fdca26\"],[1.0,\"#f0f921\"]],\"sequentialminus\":[[0.0,\"#0d0887\"],[0.1111111111111111,\"#46039f\"],[0.2222222222222222,\"#7201a8\"],[0.3333333333333333,\"#9c179e\"],[0.4444444444444444,\"#bd3786\"],[0.5555555555555556,\"#d8576b\"],[0.6666666666666666,\"#ed7953\"],[0.7777777777777778,\"#fb9f3a\"],[0.8888888888888888,\"#fdca26\"],[1.0,\"#f0f921\"]],\"diverging\":[[0,\"#8e0152\"],[0.1,\"#c51b7d\"],[0.2,\"#de77ae\"],[0.3,\"#f1b6da\"],[0.4,\"#fde0ef\"],[0.5,\"#f7f7f7\"],[0.6,\"#e6f5d0\"],[0.7,\"#b8e186\"],[0.8,\"#7fbc41\"],[0.9,\"#4d9221\"],[1,\"#276419\"]]},\"xaxis\":{\"gridcolor\":\"white\",\"linecolor\":\"white\",\"ticks\":\"\",\"title\":{\"standoff\":15},\"zerolinecolor\":\"white\",\"automargin\":true,\"zerolinewidth\":2},\"yaxis\":{\"gridcolor\":\"white\",\"linecolor\":\"white\",\"ticks\":\"\",\"title\":{\"standoff\":15},\"zerolinecolor\":\"white\",\"automargin\":true,\"zerolinewidth\":2},\"scene\":{\"xaxis\":{\"backgroundcolor\":\"#E5ECF6\",\"gridcolor\":\"white\",\"linecolor\":\"white\",\"showbackground\":true,\"ticks\":\"\",\"zerolinecolor\":\"white\",\"gridwidth\":2},\"yaxis\":{\"backgroundcolor\":\"#E5ECF6\",\"gridcolor\":\"white\",\"linecolor\":\"white\",\"showbackground\":true,\"ticks\":\"\",\"zerolinecolor\":\"white\",\"gridwidth\":2},\"zaxis\":{\"backgroundcolor\":\"#E5ECF6\",\"gridcolor\":\"white\",\"linecolor\":\"white\",\"showbackground\":true,\"ticks\":\"\",\"zerolinecolor\":\"white\",\"gridwidth\":2}},\"shapedefaults\":{\"line\":{\"color\":\"#2a3f5f\"}},\"annotationdefaults\":{\"arrowcolor\":\"#2a3f5f\",\"arrowhead\":0,\"arrowwidth\":1},\"geo\":{\"bgcolor\":\"white\",\"landcolor\":\"#E5ECF6\",\"subunitcolor\":\"white\",\"showland\":true,\"showlakes\":true,\"lakecolor\":\"white\"},\"title\":{\"x\":0.05},\"mapbox\":{\"style\":\"light\"}}}},                        {\"responsive\": true}                    ).then(function(){\n",
              "                            \n",
              "var gd = document.getElementById('d66b0057-edcf-4b89-9724-9afb0f612f00');\n",
              "var x = new MutationObserver(function (mutations, observer) {{\n",
              "        var display = window.getComputedStyle(gd).display;\n",
              "        if (!display || display === 'none') {{\n",
              "            console.log([gd, 'removed!']);\n",
              "            Plotly.purge(gd);\n",
              "            observer.disconnect();\n",
              "        }}\n",
              "}});\n",
              "\n",
              "// Listen for the removal of the full notebook cells\n",
              "var notebookContainer = gd.closest('#notebook-container');\n",
              "if (notebookContainer) {{\n",
              "    x.observe(notebookContainer, {childList: true});\n",
              "}}\n",
              "\n",
              "// Listen for the clearing of the current output cell\n",
              "var outputEl = gd.closest('.output');\n",
              "if (outputEl) {{\n",
              "    x.observe(outputEl, {childList: true});\n",
              "}}\n",
              "\n",
              "                        })                };                            </script>        </div>\n",
              "</body>\n",
              "</html>"
            ]
          },
          "metadata": {},
          "output_type": "display_data"
        }
      ],
      "source": [
        "import plotly.graph_objs as go\n",
        "\n",
        "# Create a bar chart\n",
        "data = [go.Bar(x=df['sentiment'].value_counts().index,\n",
        "               y=df['sentiment'].value_counts().values)]\n",
        "\n",
        "# Add a title and axis labels\n",
        "layout = go.Layout(title='Sentiment Analysis Results',\n",
        "                   xaxis=dict(title='Sentiment'),\n",
        "                   yaxis=dict(title='Number of Tweets'))\n",
        "\n",
        "# Create a Figure object\n",
        "fig = go.Figure(data=data, layout=layout)\n",
        "\n",
        "# Display the figure\n",
        "fig.show()\n"
      ]
    }
  ],
  "metadata": {
    "colab": {
      "provenance": []
    },
    "kernelspec": {
      "display_name": "Python 3",
      "name": "python3"
    },
    "language_info": {
      "codemirror_mode": {
        "name": "ipython",
        "version": 3
      },
      "file_extension": ".py",
      "mimetype": "text/x-python",
      "name": "python",
      "nbconvert_exporter": "python",
      "pygments_lexer": "ipython3",
      "version": "3.10.6"
    }
  },
  "nbformat": 4,
  "nbformat_minor": 0
}
